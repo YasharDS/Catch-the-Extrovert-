{
  "nbformat": 4,
  "nbformat_minor": 5,
  "metadata": {
    "kernelspec": {
      "display_name": "Python 3 (ipykernel)",
      "language": "python",
      "name": "python3"
    },
    "language_info": {
      "codemirror_mode": {
        "name": "ipython",
        "version": 3
      },
      "file_extension": ".py",
      "mimetype": "text/x-python",
      "name": "python",
      "nbconvert_exporter": "python",
      "pygments_lexer": "ipython3",
      "version": "3.8.11"
    },
    "colab": {
      "name": "catch_the_extrovert_v3.ipynb",
      "provenance": []
    }
  },
  "cells": [
    {
      "cell_type": "markdown",
      "metadata": {
        "id": "f60c07ce"
      },
      "source": [
        "## 4. Regression Project: Catch the Extrovert!  ##"
      ],
      "id": "f60c07ce"
    },
    {
      "cell_type": "markdown",
      "metadata": {
        "id": "b426038c"
      },
      "source": [
        "### 4.1 The Business Problem ###\n",
        "**Problem statement:** for the **Community Manager** role, **Mindspace** would like to hire a person with the following characteristics:\n",
        "\n",
        "**About the role:** https://www.mindspace.me/careers/co/tel-aviv/45.422/community-manager/all\n",
        "> **Who is the Community Manager?**\n",
        "You will be responsible for building and maintaining our strong and unique community, you will basically be the heart and soul of our diverse community - *caring, attuned to people’s needs and exceedingly proactive*.\n",
        "\n",
        "> **Critical competencies for success:**\n",
        "> * It’s all about the people! Working as a Community Manager means *always being attuned to people’s needs and being customer-centric*.\n",
        "> * You must be an efficient communicator *who is fearless when it comes to speaking up and making your voice heard* – even in front of those who are superior to you.\n",
        "\n",
        "**Who is an Extrovert?** https://www.indeed.com/career-advice/career-development/extrovert-traits-career-paths\n",
        "> An extrovert is someone who thrives in social situations. More than just being outgoing, extroversion means that you gain energy from being around others and find that it lessens when you're alone.\n",
        "\n",
        "**Proposed solution:** \n",
        "* We believe that an Extrovert would be the best fit for the role.\n",
        "* We will develope a model – based on the MIES online personalty test – to ensure **Mindspace** hires only Extroverts for the role, that is, we will trade off Recall for Precision.\n",
        "\n",
        "**Method:** \n",
        "We will optimize the model for Precision score of more than 0.90 and Recall score of not less than 0.75 by using the F0.5 score for model evaluation"
      ],
      "id": "b426038c"
    },
    {
      "cell_type": "markdown",
      "metadata": {
        "id": "54febd21"
      },
      "source": [
        "\n",
        "### 4.2 The Data: Multidimensional Introversion-Extraversion Scales (MIES) ###\n",
        "**Raw data from online personality tests:** https://openpsychometrics.org/_rawdata\n",
        "\n",
        "> For general public edification the data collected through the personality tests on this website is dumped here. All data is anonymous. Users were informed at the beginning of the test that their answers would be used for research and were asked to confirm that their answers were accurate and suitable for research upon completion (those that did not have been removed from these datasets). \n",
        "\n",
        "**MIES test:** https://openpsychometrics.org/tests/MIES\n",
        "> This is an interactive personality test measuring traits that differ between introverts and extraverts.\n",
        "The test has 91 statements of opinion that you must rate on a five point scale of how much you agree with each. It should take most people 10-15 minutes to complete.\n",
        "\n",
        "\n",
        "**Dataset:** https://openpsychometrics.org/_rawdata/MIES_Dev_Data.zip\n",
        "> The downloadables are .zip files each containing a .csv file with the data and a .txt codebook.\n",
        "\n",
        "**Description:** \n",
        "> Answers to 91 personality items, gender, age, native language, **self reported** introvert-extrovert identity"
      ],
      "id": "54febd21"
    },
    {
      "cell_type": "code",
      "metadata": {
        "id": "15f7eae1"
      },
      "source": [
        "import numpy as np\n",
        "import pandas as pd\n",
        "import matplotlib.pyplot as plt\n",
        "import seaborn as sns\n",
        "%matplotlib inline\n",
        "import joblib"
      ],
      "id": "15f7eae1",
      "execution_count": 3,
      "outputs": []
    },
    {
      "cell_type": "code",
      "metadata": {
        "id": "69e03a6c"
      },
      "source": [
        "df = pd.read_csv('data.csv', sep='\\t')"
      ],
      "id": "69e03a6c",
      "execution_count": 4,
      "outputs": []
    },
    {
      "cell_type": "code",
      "metadata": {
        "colab": {
          "base_uri": "https://localhost:8080/"
        },
        "id": "d21d0408",
        "outputId": "a6fbb119-7bd1-44a0-dc00-57b24bdf996b"
      },
      "source": [
        "df.info()"
      ],
      "id": "d21d0408",
      "execution_count": 5,
      "outputs": [
        {
          "output_type": "stream",
          "name": "stdout",
          "text": [
            "<class 'pandas.core.frame.DataFrame'>\n",
            "RangeIndex: 7188 entries, 0 to 7187\n",
            "Columns: 282 entries, Q1A to IE\n",
            "dtypes: int64(280), object(2)\n",
            "memory usage: 15.5+ MB\n"
          ]
        }
      ]
    },
    {
      "cell_type": "code",
      "metadata": {
        "colab": {
          "base_uri": "https://localhost:8080/",
          "height": 165
        },
        "id": "14b0dff7",
        "outputId": "45f48e81-ece2-441f-ff9c-3b5f0f78719d"
      },
      "source": [
        "df.head(1)"
      ],
      "id": "14b0dff7",
      "execution_count": 6,
      "outputs": [
        {
          "output_type": "execute_result",
          "data": {
            "text/html": [
              "<div>\n",
              "<style scoped>\n",
              "    .dataframe tbody tr th:only-of-type {\n",
              "        vertical-align: middle;\n",
              "    }\n",
              "\n",
              "    .dataframe tbody tr th {\n",
              "        vertical-align: top;\n",
              "    }\n",
              "\n",
              "    .dataframe thead th {\n",
              "        text-align: right;\n",
              "    }\n",
              "</style>\n",
              "<table border=\"1\" class=\"dataframe\">\n",
              "  <thead>\n",
              "    <tr style=\"text-align: right;\">\n",
              "      <th></th>\n",
              "      <th>Q1A</th>\n",
              "      <th>Q1I</th>\n",
              "      <th>Q1E</th>\n",
              "      <th>Q2A</th>\n",
              "      <th>Q2I</th>\n",
              "      <th>Q2E</th>\n",
              "      <th>Q3A</th>\n",
              "      <th>Q3I</th>\n",
              "      <th>Q3E</th>\n",
              "      <th>Q4A</th>\n",
              "      <th>Q4I</th>\n",
              "      <th>Q4E</th>\n",
              "      <th>Q5A</th>\n",
              "      <th>Q5I</th>\n",
              "      <th>Q5E</th>\n",
              "      <th>Q6A</th>\n",
              "      <th>Q6I</th>\n",
              "      <th>Q6E</th>\n",
              "      <th>Q7A</th>\n",
              "      <th>Q7I</th>\n",
              "      <th>Q7E</th>\n",
              "      <th>Q8A</th>\n",
              "      <th>Q8I</th>\n",
              "      <th>Q8E</th>\n",
              "      <th>Q9A</th>\n",
              "      <th>Q9I</th>\n",
              "      <th>Q9E</th>\n",
              "      <th>Q10A</th>\n",
              "      <th>Q10I</th>\n",
              "      <th>Q10E</th>\n",
              "      <th>Q11A</th>\n",
              "      <th>Q11I</th>\n",
              "      <th>Q11E</th>\n",
              "      <th>Q12A</th>\n",
              "      <th>Q12I</th>\n",
              "      <th>Q12E</th>\n",
              "      <th>Q13A</th>\n",
              "      <th>Q13I</th>\n",
              "      <th>Q13E</th>\n",
              "      <th>Q14A</th>\n",
              "      <th>...</th>\n",
              "      <th>Q81E</th>\n",
              "      <th>Q82A</th>\n",
              "      <th>Q82I</th>\n",
              "      <th>Q82E</th>\n",
              "      <th>Q83A</th>\n",
              "      <th>Q83I</th>\n",
              "      <th>Q83E</th>\n",
              "      <th>Q84A</th>\n",
              "      <th>Q84I</th>\n",
              "      <th>Q84E</th>\n",
              "      <th>Q85A</th>\n",
              "      <th>Q85I</th>\n",
              "      <th>Q85E</th>\n",
              "      <th>Q86A</th>\n",
              "      <th>Q86I</th>\n",
              "      <th>Q86E</th>\n",
              "      <th>Q87A</th>\n",
              "      <th>Q87I</th>\n",
              "      <th>Q87E</th>\n",
              "      <th>Q88A</th>\n",
              "      <th>Q88I</th>\n",
              "      <th>Q88E</th>\n",
              "      <th>Q89A</th>\n",
              "      <th>Q89I</th>\n",
              "      <th>Q89E</th>\n",
              "      <th>Q90A</th>\n",
              "      <th>Q90I</th>\n",
              "      <th>Q90E</th>\n",
              "      <th>Q91A</th>\n",
              "      <th>Q91I</th>\n",
              "      <th>Q91E</th>\n",
              "      <th>country</th>\n",
              "      <th>dateload</th>\n",
              "      <th>introelapse</th>\n",
              "      <th>testelapse</th>\n",
              "      <th>surveyelapse</th>\n",
              "      <th>gender</th>\n",
              "      <th>engnat</th>\n",
              "      <th>age</th>\n",
              "      <th>IE</th>\n",
              "    </tr>\n",
              "  </thead>\n",
              "  <tbody>\n",
              "    <tr>\n",
              "      <th>0</th>\n",
              "      <td>5</td>\n",
              "      <td>51</td>\n",
              "      <td>7107</td>\n",
              "      <td>3</td>\n",
              "      <td>91</td>\n",
              "      <td>2522</td>\n",
              "      <td>1</td>\n",
              "      <td>56</td>\n",
              "      <td>6180</td>\n",
              "      <td>2</td>\n",
              "      <td>66</td>\n",
              "      <td>5365</td>\n",
              "      <td>3</td>\n",
              "      <td>74</td>\n",
              "      <td>6646</td>\n",
              "      <td>2</td>\n",
              "      <td>23</td>\n",
              "      <td>2726</td>\n",
              "      <td>3</td>\n",
              "      <td>11</td>\n",
              "      <td>10188</td>\n",
              "      <td>3</td>\n",
              "      <td>15</td>\n",
              "      <td>5676</td>\n",
              "      <td>4</td>\n",
              "      <td>48</td>\n",
              "      <td>5759</td>\n",
              "      <td>5</td>\n",
              "      <td>13</td>\n",
              "      <td>6928</td>\n",
              "      <td>1</td>\n",
              "      <td>63</td>\n",
              "      <td>2703</td>\n",
              "      <td>5</td>\n",
              "      <td>55</td>\n",
              "      <td>2822</td>\n",
              "      <td>3</td>\n",
              "      <td>21</td>\n",
              "      <td>6659</td>\n",
              "      <td>5</td>\n",
              "      <td>...</td>\n",
              "      <td>8118</td>\n",
              "      <td>1</td>\n",
              "      <td>61</td>\n",
              "      <td>2446</td>\n",
              "      <td>3</td>\n",
              "      <td>47</td>\n",
              "      <td>2115</td>\n",
              "      <td>2</td>\n",
              "      <td>68</td>\n",
              "      <td>3423</td>\n",
              "      <td>1</td>\n",
              "      <td>58</td>\n",
              "      <td>2496</td>\n",
              "      <td>4</td>\n",
              "      <td>12</td>\n",
              "      <td>3674</td>\n",
              "      <td>2</td>\n",
              "      <td>60</td>\n",
              "      <td>7304</td>\n",
              "      <td>5</td>\n",
              "      <td>67</td>\n",
              "      <td>883</td>\n",
              "      <td>4</td>\n",
              "      <td>4</td>\n",
              "      <td>11548</td>\n",
              "      <td>3</td>\n",
              "      <td>40</td>\n",
              "      <td>4648</td>\n",
              "      <td>3</td>\n",
              "      <td>35</td>\n",
              "      <td>4609</td>\n",
              "      <td>US</td>\n",
              "      <td>2019-02-20 17:35:52</td>\n",
              "      <td>1</td>\n",
              "      <td>461</td>\n",
              "      <td>16</td>\n",
              "      <td>2</td>\n",
              "      <td>1</td>\n",
              "      <td>23</td>\n",
              "      <td>3</td>\n",
              "    </tr>\n",
              "  </tbody>\n",
              "</table>\n",
              "<p>1 rows × 282 columns</p>\n",
              "</div>"
            ],
            "text/plain": [
              "   Q1A  Q1I   Q1E  Q2A  Q2I  ...  surveyelapse  gender  engnat  age  IE\n",
              "0    5   51  7107    3   91  ...            16       2       1   23   3\n",
              "\n",
              "[1 rows x 282 columns]"
            ]
          },
          "metadata": {},
          "execution_count": 6
        }
      ]
    },
    {
      "cell_type": "code",
      "metadata": {
        "colab": {
          "base_uri": "https://localhost:8080/"
        },
        "id": "7b6f643e",
        "outputId": "7af81dc9-d5c3-4f86-f83f-3a4e3ce0481d"
      },
      "source": [
        "# Convert all column names to lowercase\n",
        "df.columns = df.columns.str.lower()\n",
        "df.columns"
      ],
      "id": "7b6f643e",
      "execution_count": 7,
      "outputs": [
        {
          "output_type": "execute_result",
          "data": {
            "text/plain": [
              "Index(['q1a', 'q1i', 'q1e', 'q2a', 'q2i', 'q2e', 'q3a', 'q3i', 'q3e', 'q4a',\n",
              "       ...\n",
              "       'q91e', 'country', 'dateload', 'introelapse', 'testelapse',\n",
              "       'surveyelapse', 'gender', 'engnat', 'age', 'ie'],\n",
              "      dtype='object', length=282)"
            ]
          },
          "metadata": {},
          "execution_count": 7
        }
      ]
    },
    {
      "cell_type": "markdown",
      "metadata": {
        "id": "0211088c"
      },
      "source": [
        "### 4.3 Target variable distribution ###\n",
        "**IE variable (raw feature)**\n",
        "\n",
        "After the main question sequence, the following questions were asked on one final page:\n",
        "\n",
        "**\"Do you identify as either an introvert or extravert?\"**\n",
        "\n",
        "0=No response\n",
        "\n",
        "1=Introvert \n",
        "\n",
        "2=Extravert \n",
        "\n",
        "3=No"
      ],
      "id": "0211088c"
    },
    {
      "cell_type": "code",
      "metadata": {
        "colab": {
          "base_uri": "https://localhost:8080/"
        },
        "id": "14e334cf",
        "outputId": "d6b0d750-04e1-40cb-910f-6fbed7e243b8"
      },
      "source": [
        "df.ie.value_counts()"
      ],
      "id": "14e334cf",
      "execution_count": 8,
      "outputs": [
        {
          "output_type": "execute_result",
          "data": {
            "text/plain": [
              "1    4404\n",
              "3    1769\n",
              "2     990\n",
              "0      25\n",
              "Name: ie, dtype: int64"
            ]
          },
          "metadata": {},
          "execution_count": 8
        }
      ]
    },
    {
      "cell_type": "code",
      "metadata": {
        "id": "21b52dc5"
      },
      "source": [
        "# Keep records where the target variable value is either 1=Introvert or 2=Extrovert\n",
        "df = df[(df.ie==1) | (df.ie==2)]"
      ],
      "id": "21b52dc5",
      "execution_count": 9,
      "outputs": []
    },
    {
      "cell_type": "code",
      "metadata": {
        "id": "ff54d2a2"
      },
      "source": [
        "# Replace 1=Introvert values with 0=Introvert\n",
        "df.ie = df.ie.replace(1, 0)"
      ],
      "id": "ff54d2a2",
      "execution_count": 10,
      "outputs": []
    },
    {
      "cell_type": "code",
      "metadata": {
        "id": "0b37ca94"
      },
      "source": [
        "# Replace 2=Extrovert values with 1=Extrovert\n",
        "df.ie = df.ie.replace(2, 1)"
      ],
      "id": "0b37ca94",
      "execution_count": 11,
      "outputs": []
    },
    {
      "cell_type": "markdown",
      "metadata": {
        "id": "d788998a"
      },
      "source": [
        "### IE variable (engineered feature) ###\n",
        "* **Negative label = 0 = Introvert**\n",
        "* **Positive label = 1 = Extrovert**\n",
        "\n",
        "**Note:** The positive label is under-represented in the dataset – about **1:4.5** parts of the negative label"
      ],
      "id": "d788998a"
    },
    {
      "cell_type": "code",
      "metadata": {
        "colab": {
          "base_uri": "https://localhost:8080/"
        },
        "id": "33138584",
        "outputId": "be42e890-431b-42e8-a7d2-b719101db8f7"
      },
      "source": [
        "df.ie.value_counts()"
      ],
      "id": "33138584",
      "execution_count": 12,
      "outputs": [
        {
          "output_type": "execute_result",
          "data": {
            "text/plain": [
              "0    4404\n",
              "1     990\n",
              "Name: ie, dtype: int64"
            ]
          },
          "metadata": {},
          "execution_count": 12
        }
      ]
    },
    {
      "cell_type": "code",
      "metadata": {
        "colab": {
          "base_uri": "https://localhost:8080/",
          "height": 293
        },
        "id": "01edaa43",
        "outputId": "a00fa128-5ad3-4033-8c8d-57f59d606527"
      },
      "source": [
        "inex = pd.DataFrame(data=df.ie.value_counts(), index={0: 'Introvert', 1: 'Extrovert'})\n",
        "inex.rename(index={0: 'Introvert', 1: 'Extrovert'}, columns={'ie': 'Counts'}, inplace=True)\n",
        "sns.set_theme(style='whitegrid', rc={'axes.titlesize': 'large'})\n",
        "fig, ax = plt.subplots()\n",
        "ax = sns.barplot(x=inex.index, y=inex.Counts)\n",
        "ax.set_title('Target Variable Distribution')\n",
        "fig.tight_layout()"
      ],
      "id": "01edaa43",
      "execution_count": 13,
      "outputs": [
        {
          "output_type": "display_data",
          "data": {
            "image/png": "[encoded data removed]",
            "text/plain": [
              "<Figure size 432x288 with 1 Axes>"
            ]
          },
          "metadata": {}
        }
      ]
    },
    {
      "cell_type": "markdown",
      "metadata": {
        "id": "59bfc230"
      },
      "source": [
        "### 4.4 Final page variables ###\n",
        "After the main question sequence, the following questions were asked on one final page:\n",
        "\n",
        "**Gender variable**\n",
        "\n",
        "\"What is your gender?\"\n",
        "\n",
        "0=No response\n",
        "\n",
        "1=Male \n",
        "\n",
        "2=Female\n",
        "\n",
        "3=Other"
      ],
      "id": "59bfc230"
    },
    {
      "cell_type": "code",
      "metadata": {
        "colab": {
          "base_uri": "https://localhost:8080/"
        },
        "id": "23c969ac",
        "outputId": "36b223b9-dba3-477a-a4c0-8cb68979531c"
      },
      "source": [
        "df.gender.value_counts()"
      ],
      "id": "23c969ac",
      "execution_count": 14,
      "outputs": [
        {
          "output_type": "execute_result",
          "data": {
            "text/plain": [
              "2    3102\n",
              "1    2078\n",
              "3     143\n",
              "0      71\n",
              "Name: gender, dtype: int64"
            ]
          },
          "metadata": {},
          "execution_count": 14
        }
      ]
    },
    {
      "cell_type": "markdown",
      "metadata": {
        "id": "71c71621"
      },
      "source": [
        "* We have decided to remove gender categories without a lot of records\n",
        "* We would like to focus on the Male/Female binary variable and see if it could help us predict the target variable"
      ],
      "id": "71c71621"
    },
    {
      "cell_type": "code",
      "metadata": {
        "id": "40670c80"
      },
      "source": [
        "# Keep records where the gender variable value is either 1 (male) or 2 (female)\n",
        "df = df[(df.gender==1) | (df.gender==2)]"
      ],
      "id": "40670c80",
      "execution_count": 15,
      "outputs": []
    },
    {
      "cell_type": "code",
      "metadata": {
        "scrolled": true,
        "colab": {
          "base_uri": "https://localhost:8080/"
        },
        "id": "be64b1e1",
        "outputId": "0f53a663-1ee3-476b-997f-3296600a6fbe"
      },
      "source": [
        "df.gender.value_counts()"
      ],
      "id": "be64b1e1",
      "execution_count": 16,
      "outputs": [
        {
          "output_type": "execute_result",
          "data": {
            "text/plain": [
              "2    3102\n",
              "1    2078\n",
              "Name: gender, dtype: int64"
            ]
          },
          "metadata": {},
          "execution_count": 16
        }
      ]
    },
    {
      "cell_type": "code",
      "metadata": {
        "colab": {
          "base_uri": "https://localhost:8080/"
        },
        "id": "b932fa92",
        "outputId": "ccabbc16-d5e5-4176-8aa3-34715f58728d"
      },
      "source": [
        "# Target variable mean for Males\n",
        "df[df.gender==1].ie.mean()"
      ],
      "id": "b932fa92",
      "execution_count": 17,
      "outputs": [
        {
          "output_type": "execute_result",
          "data": {
            "text/plain": [
              "0.1693936477382098"
            ]
          },
          "metadata": {},
          "execution_count": 17
        }
      ]
    },
    {
      "cell_type": "code",
      "metadata": {
        "colab": {
          "base_uri": "https://localhost:8080/"
        },
        "id": "e1f3a825",
        "outputId": "a19d12b6-08a9-4e86-dead-6af445d413b3"
      },
      "source": [
        "# Target variable mean for Females\n",
        "df[df.gender==2].ie.mean()"
      ],
      "id": "e1f3a825",
      "execution_count": 18,
      "outputs": [
        {
          "output_type": "execute_result",
          "data": {
            "text/plain": [
              "0.19310122501611862"
            ]
          },
          "metadata": {},
          "execution_count": 18
        }
      ]
    },
    {
      "cell_type": "markdown",
      "metadata": {
        "id": "9e763651"
      },
      "source": [
        "* We see that the mean IE value for men is quite similar to that of women, and therefore we conclude that we can exclude the Gender feature from our model"
      ],
      "id": "9e763651"
    },
    {
      "cell_type": "markdown",
      "metadata": {
        "id": "2b7140db"
      },
      "source": [
        "**Engnat variable**\n",
        "\n",
        "\"Is English your native language?\"\n",
        "\n",
        "0=No response\n",
        "\n",
        "1=Yes\n",
        "\n",
        "2=No"
      ],
      "id": "2b7140db"
    },
    {
      "cell_type": "code",
      "metadata": {
        "colab": {
          "base_uri": "https://localhost:8080/"
        },
        "id": "27e7b9cc",
        "outputId": "1041673d-5232-4775-ff19-bf3bcc7cbd5b"
      },
      "source": [
        "df.engnat.value_counts()"
      ],
      "id": "27e7b9cc",
      "execution_count": 19,
      "outputs": [
        {
          "output_type": "execute_result",
          "data": {
            "text/plain": [
              "1    3519\n",
              "2    1649\n",
              "0      12\n",
              "Name: engnat, dtype: int64"
            ]
          },
          "metadata": {},
          "execution_count": 19
        }
      ]
    },
    {
      "cell_type": "code",
      "metadata": {
        "colab": {
          "base_uri": "https://localhost:8080/"
        },
        "id": "67af13b9",
        "outputId": "1a0786dc-2382-4c5c-c39b-c3aed51e98e0"
      },
      "source": [
        "df[df.engnat==0].ie.mean()"
      ],
      "id": "67af13b9",
      "execution_count": 20,
      "outputs": [
        {
          "output_type": "execute_result",
          "data": {
            "text/plain": [
              "0.16666666666666666"
            ]
          },
          "metadata": {},
          "execution_count": 20
        }
      ]
    },
    {
      "cell_type": "code",
      "metadata": {
        "colab": {
          "base_uri": "https://localhost:8080/"
        },
        "id": "34c89840",
        "outputId": "e5f2d5f1-61f7-488c-9aba-f8af6b11f543"
      },
      "source": [
        "df[df.engnat==1].ie.mean()"
      ],
      "id": "34c89840",
      "execution_count": 21,
      "outputs": [
        {
          "output_type": "execute_result",
          "data": {
            "text/plain": [
              "0.19721511793123048"
            ]
          },
          "metadata": {},
          "execution_count": 21
        }
      ]
    },
    {
      "cell_type": "code",
      "metadata": {
        "colab": {
          "base_uri": "https://localhost:8080/"
        },
        "id": "d5dfe8fc",
        "outputId": "8a03f659-f2f5-466b-bd3e-6a1b393115f0"
      },
      "source": [
        "df[df.engnat==2].ie.mean()"
      ],
      "id": "d5dfe8fc",
      "execution_count": 22,
      "outputs": [
        {
          "output_type": "execute_result",
          "data": {
            "text/plain": [
              "0.15463917525773196"
            ]
          },
          "metadata": {},
          "execution_count": 22
        }
      ]
    },
    {
      "cell_type": "markdown",
      "metadata": {
        "id": "9c11bcf7"
      },
      "source": [
        "* We see a similar mean IE value for all 'engnat' categories, \n",
        "and therefore conclude that the 'engnat' variable is insiginifacnt for our model"
      ],
      "id": "9c11bcf7"
    },
    {
      "cell_type": "markdown",
      "metadata": {
        "id": "95b79e24"
      },
      "source": [
        "**Age variable**\n",
        "\n",
        "\"What is your age in years?\""
      ],
      "id": "95b79e24"
    },
    {
      "cell_type": "code",
      "metadata": {
        "colab": {
          "base_uri": "https://localhost:8080/"
        },
        "id": "e8be35c4",
        "outputId": "e66bb322-6608-4d2d-fabb-b33fb42564f2"
      },
      "source": [
        "df.age.describe().round()"
      ],
      "id": "e8be35c4",
      "execution_count": 23,
      "outputs": [
        {
          "output_type": "execute_result",
          "data": {
            "text/plain": [
              "count    5180.0\n",
              "mean       28.0\n",
              "std        62.0\n",
              "min        14.0\n",
              "25%        18.0\n",
              "50%        22.0\n",
              "75%        30.0\n",
              "max      2003.0\n",
              "Name: age, dtype: float64"
            ]
          },
          "metadata": {},
          "execution_count": 23
        }
      ]
    },
    {
      "cell_type": "code",
      "metadata": {
        "scrolled": true,
        "colab": {
          "base_uri": "https://localhost:8080/"
        },
        "id": "b56639ec",
        "outputId": "82cb9ac1-1c96-493d-deb3-e709cfc57b40"
      },
      "source": [
        "df.age.sort_values()"
      ],
      "id": "b56639ec",
      "execution_count": 24,
      "outputs": [
        {
          "output_type": "execute_result",
          "data": {
            "text/plain": [
              "6662      14\n",
              "192       14\n",
              "3209      14\n",
              "5358      14\n",
              "178       14\n",
              "        ... \n",
              "5470    1979\n",
              "4179    1983\n",
              "1302    1990\n",
              "6856    1999\n",
              "4043    2003\n",
              "Name: age, Length: 5180, dtype: int64"
            ]
          },
          "metadata": {},
          "execution_count": 24
        }
      ]
    },
    {
      "cell_type": "code",
      "metadata": {
        "id": "ccdad1e8"
      },
      "source": [
        "# Remove 5 records where users misentered their age\n",
        "df = df[df.age<1000]"
      ],
      "id": "ccdad1e8",
      "execution_count": 25,
      "outputs": []
    },
    {
      "cell_type": "code",
      "metadata": {
        "colab": {
          "base_uri": "https://localhost:8080/"
        },
        "id": "395519eb",
        "outputId": "7bdee2b4-a461-4fcd-df77-3008d38f50eb"
      },
      "source": [
        "df.age.describe().round()"
      ],
      "id": "395519eb",
      "execution_count": 26,
      "outputs": [
        {
          "output_type": "execute_result",
          "data": {
            "text/plain": [
              "count    5175.0\n",
              "mean       26.0\n",
              "std        12.0\n",
              "min        14.0\n",
              "25%        18.0\n",
              "50%        22.0\n",
              "75%        30.0\n",
              "max        81.0\n",
              "Name: age, dtype: float64"
            ]
          },
          "metadata": {},
          "execution_count": 26
        }
      ]
    },
    {
      "cell_type": "code",
      "metadata": {
        "scrolled": true,
        "colab": {
          "base_uri": "https://localhost:8080/",
          "height": 293
        },
        "id": "091778d6",
        "outputId": "df0a4200-d23e-40a7-d50f-f20fd995ee63"
      },
      "source": [
        "sns.set_theme(style='whitegrid', rc={'axes.titlesize': 'large'})\n",
        "fig, ax = plt.subplots()\n",
        "ax = sns.histplot(df.age, bins=81)\n",
        "ax.set_title('Age Distribution')\n",
        "fig.tight_layout()"
      ],
      "id": "091778d6",
      "execution_count": 27,
      "outputs": [
        {
          "output_type": "display_data",
          "data": {
            "image/png": "[encoded data removed]",
            "text/plain": [
              "<Figure size 432x288 with 1 Axes>"
            ]
          },
          "metadata": {}
        }
      ]
    },
    {
      "cell_type": "markdown",
      "metadata": {
        "id": "459100c6"
      },
      "source": [
        "* We assume that age cannot predict In/Extroversion, and will ignore the 'age' variable in our model"
      ],
      "id": "459100c6"
    },
    {
      "cell_type": "markdown",
      "metadata": {
        "id": "e2336362"
      },
      "source": [
        "The following variables were determined from techincal information:\n",
        "\n",
        "**country:** user's network location\n",
        "\n",
        "**dateload:** the time the user loaded the introduction page\n",
        "\n",
        "**introelapse:** the time spent in seconds on the introduction page\n",
        "\n",
        "**testelapse:** the time spent in seconds on the test questions\n",
        "\n",
        "**surveyelapse:** the time spent in seconds on the final page\n"
      ],
      "id": "e2336362"
    },
    {
      "cell_type": "code",
      "metadata": {
        "scrolled": true,
        "colab": {
          "base_uri": "https://localhost:8080/",
          "height": 1000
        },
        "id": "b614f7e8",
        "outputId": "4bab7312-a77e-405b-bc94-7db514d6c27d"
      },
      "source": [
        "country = df.country.value_counts()\n",
        "sns.set_theme(style='whitegrid', rc={'axes.titlesize': 'large'})\n",
        "fig, ax = plt.subplots(figsize=(5, 15))\n",
        "ax = sns.barplot(x=country.values, y=country.index)\n",
        "ax.set_title('Country Distribution')\n",
        "fig.tight_layout()"
      ],
      "id": "b614f7e8",
      "execution_count": 28,
      "outputs": [
        {
          "output_type": "display_data",
          "data": {
            "image/png": "[encoded data removed]",
            "text/plain": [
              "<Figure size 360x1080 with 1 Axes>"
            ]
          },
          "metadata": {}
        }
      ]
    },
    {
      "cell_type": "markdown",
      "metadata": {
        "id": "9edf3414"
      },
      "source": [
        "* We assume that the 5 'technical' variables will not assist us in predicting the IE variable\n",
        "* However, we will use the 'testelapse' and 'surveyelapse' variables to qualify the dataset"
      ],
      "id": "9edf3414"
    },
    {
      "cell_type": "code",
      "metadata": {
        "colab": {
          "base_uri": "https://localhost:8080/"
        },
        "id": "dc1a94f9",
        "outputId": "c7d9114d-68fb-4807-de88-fba6b45e070a"
      },
      "source": [
        "df.testelapse.describe().round(3)"
      ],
      "id": "dc1a94f9",
      "execution_count": 29,
      "outputs": [
        {
          "output_type": "execute_result",
          "data": {
            "text/plain": [
              "count       5175.000\n",
              "mean        1242.441\n",
              "std        19274.442\n",
              "min          148.000\n",
              "25%          303.000\n",
              "50%          379.000\n",
              "75%          501.000\n",
              "max      1170335.000\n",
              "Name: testelapse, dtype: float64"
            ]
          },
          "metadata": {},
          "execution_count": 29
        }
      ]
    },
    {
      "cell_type": "markdown",
      "metadata": {
        "id": "5774c58f"
      },
      "source": [
        "**Testelapse variable:** the time spent in seconds on the test questions\n",
        "> It should take most people 10-15 minutes to complete.\n",
        "* Since we would like to exclude persones who lingered over the questions; \n",
        "* We are going to remove records where the 'testelapse' value is greater than 15 min (900 sec)"
      ],
      "id": "5774c58f"
    },
    {
      "cell_type": "code",
      "metadata": {
        "id": "73e8686f"
      },
      "source": [
        "# Keep records where the testelapse value is not greater than 900 sec\n",
        "df = df[df.testelapse<=900]"
      ],
      "id": "73e8686f",
      "execution_count": 30,
      "outputs": []
    },
    {
      "cell_type": "code",
      "metadata": {
        "scrolled": true,
        "colab": {
          "base_uri": "https://localhost:8080/"
        },
        "id": "86c01978",
        "outputId": "5617ecef-596c-443c-9931-8350c6363a20"
      },
      "source": [
        "df.shape"
      ],
      "id": "86c01978",
      "execution_count": 31,
      "outputs": [
        {
          "output_type": "execute_result",
          "data": {
            "text/plain": [
              "(4813, 282)"
            ]
          },
          "metadata": {},
          "execution_count": 31
        }
      ]
    },
    {
      "cell_type": "markdown",
      "metadata": {
        "id": "c9ece3ff"
      },
      "source": [
        "**Surveyelapse variable:** the time spent in seconds on the final page (5 questions in total): gender, age, engnat, IE, and also:\n",
        "> On the final page, the users were also asked \"Do you give accurate answers and can we store and use your data for research?\". Only those who answered yes were recorded.\n",
        "\n",
        "**self reported** introvert-extrovert identity\n",
        "It should take most people 10-15 minutes to complete.\n",
        "\n",
        "* Since we would like to exclude persones who lingered over the IE question: \"Do you identify as either an introvert or extravert?\"\t\n",
        "* And knowing that the mean time spent on each question shouldn't take more than ~10 sec (900 sec divided by 91 questions)\n",
        "* We are going to remove records where the 'testelapse' value is greater than 50 sec"
      ],
      "id": "c9ece3ff"
    },
    {
      "cell_type": "code",
      "metadata": {
        "id": "e9355c8a"
      },
      "source": [
        "# Keep records where the surveyelapse value is not greater than 50 sec\n",
        "df = df[df.surveyelapse<=50]"
      ],
      "id": "e9355c8a",
      "execution_count": 32,
      "outputs": []
    },
    {
      "cell_type": "code",
      "metadata": {
        "colab": {
          "base_uri": "https://localhost:8080/"
        },
        "id": "e86b9449",
        "outputId": "0fbf1b58-1583-4c3d-9584-37e8d00775c7"
      },
      "source": [
        "df.shape"
      ],
      "id": "e86b9449",
      "execution_count": 33,
      "outputs": [
        {
          "output_type": "execute_result",
          "data": {
            "text/plain": [
              "(4526, 282)"
            ]
          },
          "metadata": {},
          "execution_count": 33
        }
      ]
    },
    {
      "cell_type": "code",
      "metadata": {
        "colab": {
          "base_uri": "https://localhost:8080/"
        },
        "id": "f1f11ae8",
        "outputId": "0cbebfbf-e474-4b33-86ac-2a84de3f8c44"
      },
      "source": [
        "df.columns"
      ],
      "id": "f1f11ae8",
      "execution_count": 34,
      "outputs": [
        {
          "output_type": "execute_result",
          "data": {
            "text/plain": [
              "Index(['q1a', 'q1i', 'q1e', 'q2a', 'q2i', 'q2e', 'q3a', 'q3i', 'q3e', 'q4a',\n",
              "       ...\n",
              "       'q91e', 'country', 'dateload', 'introelapse', 'testelapse',\n",
              "       'surveyelapse', 'gender', 'engnat', 'age', 'ie'],\n",
              "      dtype='object', length=282)"
            ]
          },
          "metadata": {},
          "execution_count": 34
        }
      ]
    },
    {
      "cell_type": "markdown",
      "metadata": {
        "id": "841e097e"
      },
      "source": [
        "### 4.5 Data subset ###\n",
        "\n",
        "**Test questions** (the text of the questions is avialable in the codebook file)\n",
        "\n",
        "The test contained 91 questions. The questions were presented one at a time in a random order. \n",
        "For each questions 3 values were recorded:\n",
        "\n",
        "> Q1-91**A**: The user's selected response: 1=Disagree, 2=Slightly disagree, 3=Neutral, 4=Slightly agree, 5=Agree\n",
        "\n",
        "> Q1-91**I**: The position of the question in the survey\n",
        "\n",
        "> Q1-91**E**: The time elapsed on that question in milliseconds\n",
        "\n",
        "\n",
        "\n",
        "\n",
        "* We have decided to focus on the user's selected response\n",
        "* From now on, our data subset will include only 91 features: Q1-91**A**\n"
      ],
      "id": "841e097e"
    },
    {
      "cell_type": "code",
      "metadata": {
        "colab": {
          "base_uri": "https://localhost:8080/"
        },
        "id": "46c817dd",
        "outputId": "afc1634c-e853-4c10-f9e6-29132e888608"
      },
      "source": [
        "df.columns"
      ],
      "id": "46c817dd",
      "execution_count": 35,
      "outputs": [
        {
          "output_type": "execute_result",
          "data": {
            "text/plain": [
              "Index(['q1a', 'q1i', 'q1e', 'q2a', 'q2i', 'q2e', 'q3a', 'q3i', 'q3e', 'q4a',\n",
              "       ...\n",
              "       'q91e', 'country', 'dateload', 'introelapse', 'testelapse',\n",
              "       'surveyelapse', 'gender', 'engnat', 'age', 'ie'],\n",
              "      dtype='object', length=282)"
            ]
          },
          "metadata": {},
          "execution_count": 35
        }
      ]
    },
    {
      "cell_type": "markdown",
      "metadata": {
        "id": "90a1b4e1"
      },
      "source": [
        "### Feature matrix:  Q1-91A columns ###"
      ],
      "id": "90a1b4e1"
    },
    {
      "cell_type": "code",
      "metadata": {
        "id": "1ae122f0"
      },
      "source": [
        "# Select the q1-91a columns\n",
        "X = df.filter(regex='a$', axis='columns')"
      ],
      "id": "1ae122f0",
      "execution_count": 36,
      "outputs": []
    },
    {
      "cell_type": "code",
      "metadata": {
        "colab": {
          "base_uri": "https://localhost:8080/"
        },
        "id": "c7657624",
        "outputId": "6e3b78a1-5d1f-4a3b-b8c8-b6509ebb6dd0"
      },
      "source": [
        "X.shape"
      ],
      "id": "c7657624",
      "execution_count": 37,
      "outputs": [
        {
          "output_type": "execute_result",
          "data": {
            "text/plain": [
              "(4526, 91)"
            ]
          },
          "metadata": {},
          "execution_count": 37
        }
      ]
    },
    {
      "cell_type": "markdown",
      "metadata": {
        "id": "ff97296c"
      },
      "source": [
        "### Target vector:  IE column ###\n",
        "* **Negative label = 0 = Introvert**\n",
        "* **Positive label = 1 = Extrovert**"
      ],
      "id": "ff97296c"
    },
    {
      "cell_type": "code",
      "metadata": {
        "id": "cb332d6d"
      },
      "source": [
        "# Select the ie column\n",
        "y = df.ie"
      ],
      "id": "cb332d6d",
      "execution_count": 38,
      "outputs": []
    },
    {
      "cell_type": "code",
      "metadata": {
        "colab": {
          "base_uri": "https://localhost:8080/"
        },
        "id": "37c21a7f",
        "outputId": "6dcf59ed-cb4e-429e-f118-1044f2d371aa"
      },
      "source": [
        "y.shape"
      ],
      "id": "37c21a7f",
      "execution_count": 39,
      "outputs": [
        {
          "output_type": "execute_result",
          "data": {
            "text/plain": [
              "(4526,)"
            ]
          },
          "metadata": {},
          "execution_count": 39
        }
      ]
    },
    {
      "cell_type": "code",
      "metadata": {
        "colab": {
          "base_uri": "https://localhost:8080/"
        },
        "id": "4c5531d5",
        "outputId": "416a187f-5dd9-4104-9aa1-4bd404684d13"
      },
      "source": [
        "y.value_counts()"
      ],
      "id": "4c5531d5",
      "execution_count": 40,
      "outputs": [
        {
          "output_type": "execute_result",
          "data": {
            "text/plain": [
              "0    3713\n",
              "1     813\n",
              "Name: ie, dtype: int64"
            ]
          },
          "metadata": {},
          "execution_count": 40
        }
      ]
    },
    {
      "cell_type": "markdown",
      "metadata": {
        "id": "0169670f"
      },
      "source": [
        "**Reminder:** The positive label is under-represented in the dataset – about **1:4.6** parts of the negative label"
      ],
      "id": "0169670f"
    },
    {
      "cell_type": "markdown",
      "metadata": {
        "id": "049b7380"
      },
      "source": [
        "### Mutual information ###"
      ],
      "id": "049b7380"
    },
    {
      "cell_type": "code",
      "metadata": {
        "id": "33b1d0f3"
      },
      "source": [
        "from sklearn.feature_selection import mutual_info_classif"
      ],
      "id": "33b1d0f3",
      "execution_count": 41,
      "outputs": []
    },
    {
      "cell_type": "code",
      "metadata": {
        "scrolled": true,
        "colab": {
          "base_uri": "https://localhost:8080/",
          "height": 394
        },
        "id": "b0cc9ffa",
        "outputId": "2b450784-cd38-4fa6-fc10-e13ee155c649"
      },
      "source": [
        "q = X.columns\n",
        "mi = mutual_info_classif(X, y).round(4)\n",
        "mi_data = list(zip(q, mi))\n",
        "mi_df = pd.DataFrame.from_records(mi_data, columns=['Q', 'MI'])\n",
        "mi_sorted= mi_df.sort_values(by='MI', ascending=False).set_index('Q')\n",
        "mi_sorted[:10]"
      ],
      "id": "b0cc9ffa",
      "execution_count": 42,
      "outputs": [
        {
          "output_type": "execute_result",
          "data": {
            "text/html": [
              "<div>\n",
              "<style scoped>\n",
              "    .dataframe tbody tr th:only-of-type {\n",
              "        vertical-align: middle;\n",
              "    }\n",
              "\n",
              "    .dataframe tbody tr th {\n",
              "        vertical-align: top;\n",
              "    }\n",
              "\n",
              "    .dataframe thead th {\n",
              "        text-align: right;\n",
              "    }\n",
              "</style>\n",
              "<table border=\"1\" class=\"dataframe\">\n",
              "  <thead>\n",
              "    <tr style=\"text-align: right;\">\n",
              "      <th></th>\n",
              "      <th>MI</th>\n",
              "    </tr>\n",
              "    <tr>\n",
              "      <th>Q</th>\n",
              "      <th></th>\n",
              "    </tr>\n",
              "  </thead>\n",
              "  <tbody>\n",
              "    <tr>\n",
              "      <th>q83a</th>\n",
              "      <td>0.1918</td>\n",
              "    </tr>\n",
              "    <tr>\n",
              "      <th>q82a</th>\n",
              "      <td>0.1857</td>\n",
              "    </tr>\n",
              "    <tr>\n",
              "      <th>q91a</th>\n",
              "      <td>0.1753</td>\n",
              "    </tr>\n",
              "    <tr>\n",
              "      <th>q90a</th>\n",
              "      <td>0.1635</td>\n",
              "    </tr>\n",
              "    <tr>\n",
              "      <th>q81a</th>\n",
              "      <td>0.1613</td>\n",
              "    </tr>\n",
              "    <tr>\n",
              "      <th>q80a</th>\n",
              "      <td>0.1427</td>\n",
              "    </tr>\n",
              "    <tr>\n",
              "      <th>q89a</th>\n",
              "      <td>0.1227</td>\n",
              "    </tr>\n",
              "    <tr>\n",
              "      <th>q84a</th>\n",
              "      <td>0.1226</td>\n",
              "    </tr>\n",
              "    <tr>\n",
              "      <th>q14a</th>\n",
              "      <td>0.1063</td>\n",
              "    </tr>\n",
              "    <tr>\n",
              "      <th>q13a</th>\n",
              "      <td>0.1020</td>\n",
              "    </tr>\n",
              "  </tbody>\n",
              "</table>\n",
              "</div>"
            ],
            "text/plain": [
              "          MI\n",
              "Q           \n",
              "q83a  0.1918\n",
              "q82a  0.1857\n",
              "q91a  0.1753\n",
              "q90a  0.1635\n",
              "q81a  0.1613\n",
              "q80a  0.1427\n",
              "q89a  0.1227\n",
              "q84a  0.1226\n",
              "q14a  0.1063\n",
              "q13a  0.1020"
            ]
          },
          "metadata": {},
          "execution_count": 42
        }
      ]
    },
    {
      "cell_type": "markdown",
      "metadata": {
        "id": "ec2d4a37"
      },
      "source": [
        "### 4.6 Split the data  ###"
      ],
      "id": "ec2d4a37"
    },
    {
      "cell_type": "code",
      "metadata": {
        "id": "6012c188"
      },
      "source": [
        "from sklearn.model_selection import train_test_split"
      ],
      "id": "6012c188",
      "execution_count": 43,
      "outputs": []
    },
    {
      "cell_type": "code",
      "metadata": {
        "id": "cdac2137"
      },
      "source": [
        "X_train, X_test, y_train, y_test = train_test_split(X, y, test_size=0.2, random_state=42)"
      ],
      "id": "cdac2137",
      "execution_count": 44,
      "outputs": []
    },
    {
      "cell_type": "code",
      "metadata": {
        "colab": {
          "base_uri": "https://localhost:8080/"
        },
        "id": "e94975d4",
        "outputId": "2bbf592b-97c9-4c0a-81e2-db580cb1ec71"
      },
      "source": [
        "# Check size of dataframes\n",
        "X_train.shape, X_test.shape"
      ],
      "id": "e94975d4",
      "execution_count": 45,
      "outputs": [
        {
          "output_type": "execute_result",
          "data": {
            "text/plain": [
              "((3620, 91), (906, 91))"
            ]
          },
          "metadata": {},
          "execution_count": 45
        }
      ]
    },
    {
      "cell_type": "code",
      "metadata": {
        "colab": {
          "base_uri": "https://localhost:8080/"
        },
        "id": "6da21d02",
        "outputId": "2b088024-c01a-488f-b890-b07022d4840b"
      },
      "source": [
        "# Check size of arrays\n",
        "y_train.shape, y_test.shape"
      ],
      "id": "6da21d02",
      "execution_count": 46,
      "outputs": [
        {
          "output_type": "execute_result",
          "data": {
            "text/plain": [
              "((3620,), (906,))"
            ]
          },
          "metadata": {},
          "execution_count": 46
        }
      ]
    },
    {
      "cell_type": "markdown",
      "metadata": {
        "id": "039d7d01"
      },
      "source": [
        "### 4.7 Logistic regression"
      ],
      "id": "039d7d01"
    },
    {
      "cell_type": "code",
      "metadata": {
        "id": "7e015245"
      },
      "source": [
        "from sklearn.linear_model import LogisticRegression"
      ],
      "id": "7e015245",
      "execution_count": 47,
      "outputs": []
    },
    {
      "cell_type": "markdown",
      "metadata": {
        "id": "c9daf914"
      },
      "source": [
        "* ### Fit the model ###"
      ],
      "id": "c9daf914"
    },
    {
      "cell_type": "code",
      "metadata": {
        "colab": {
          "base_uri": "https://localhost:8080/"
        },
        "id": "6fd79bd0",
        "outputId": "614e303a-e3e4-4aa5-c1b3-1798724e16a7"
      },
      "source": [
        "lg = LogisticRegression(solver='liblinear', random_state=42)\n",
        "lg.fit(X_train, y_train)"
      ],
      "id": "6fd79bd0",
      "execution_count": 48,
      "outputs": [
        {
          "output_type": "execute_result",
          "data": {
            "text/plain": [
              "LogisticRegression(random_state=42, solver='liblinear')"
            ]
          },
          "metadata": {},
          "execution_count": 48
        }
      ]
    },
    {
      "cell_type": "markdown",
      "metadata": {
        "id": "5b82674c"
      },
      "source": [
        "* ### Train data predictions ###"
      ],
      "id": "5b82674c"
    },
    {
      "cell_type": "code",
      "metadata": {
        "id": "fbbb6227"
      },
      "source": [
        "y_train_predict_lg = lg.predict(X_train)"
      ],
      "id": "fbbb6227",
      "execution_count": 49,
      "outputs": []
    },
    {
      "cell_type": "markdown",
      "metadata": {
        "id": "4dc709d5"
      },
      "source": [
        "* ### Classification metrics ###"
      ],
      "id": "4dc709d5"
    },
    {
      "cell_type": "code",
      "metadata": {
        "id": "bb5076fa"
      },
      "source": [
        "from sklearn.metrics import confusion_matrix, ConfusionMatrixDisplay"
      ],
      "id": "bb5076fa",
      "execution_count": 50,
      "outputs": []
    },
    {
      "cell_type": "code",
      "metadata": {
        "colab": {
          "base_uri": "https://localhost:8080/",
          "height": 302
        },
        "id": "492dc501",
        "outputId": "57839e6b-af53-4a04-ffb0-5d3e90540bb5"
      },
      "source": [
        "# Display the confusion_matrix\n",
        "cm = confusion_matrix(y_train, y_train_predict_lg)\n",
        "cmd = ConfusionMatrixDisplay(confusion_matrix=cm, display_labels=lg.classes_)\n",
        "cmd.plot(values_format='d')"
      ],
      "id": "492dc501",
      "execution_count": 51,
      "outputs": [
        {
          "output_type": "execute_result",
          "data": {
            "text/plain": [
              "<sklearn.metrics._plot.confusion_matrix.ConfusionMatrixDisplay at 0x7fe8f3dd72d0>"
            ]
          },
          "metadata": {},
          "execution_count": 51
        },
        {
          "output_type": "display_data",
          "data": {
            "image/png": "[encoded data removed]",
            "text/plain": [
              "<Figure size 432x288 with 2 Axes>"
            ]
          },
          "metadata": {}
        }
      ]
    },
    {
      "cell_type": "code",
      "metadata": {
        "colab": {
          "base_uri": "https://localhost:8080/"
        },
        "id": "7620f1be",
        "outputId": "b9a2d8bc-fd86-4d82-d707-a5430082e452"
      },
      "source": [
        "# Unravel the confusion_matrix\n",
        "tn, fp, fn, tp = cm.ravel()\n",
        "tn, fp, fn, tp "
      ],
      "id": "7620f1be",
      "execution_count": 52,
      "outputs": [
        {
          "output_type": "execute_result",
          "data": {
            "text/plain": [
              "(2914, 70, 111, 525)"
            ]
          },
          "metadata": {},
          "execution_count": 52
        }
      ]
    },
    {
      "cell_type": "markdown",
      "metadata": {
        "id": "020cba1b"
      },
      "source": [
        "**Precision:**"
      ],
      "id": "020cba1b"
    },
    {
      "cell_type": "code",
      "metadata": {
        "colab": {
          "base_uri": "https://localhost:8080/"
        },
        "id": "c64692d1",
        "outputId": "9425fde8-6fd6-41b5-fca7-5b41096fc975"
      },
      "source": [
        "# The precision is the ratio tp / (tp + fp) \n",
        "precision = tp / (tp + fp)\n",
        "precision.round(2)"
      ],
      "id": "c64692d1",
      "execution_count": 53,
      "outputs": [
        {
          "output_type": "execute_result",
          "data": {
            "text/plain": [
              "0.88"
            ]
          },
          "metadata": {},
          "execution_count": 53
        }
      ]
    },
    {
      "cell_type": "markdown",
      "metadata": {
        "id": "bec330fb"
      },
      "source": [
        "**Recall:**"
      ],
      "id": "bec330fb"
    },
    {
      "cell_type": "code",
      "metadata": {
        "colab": {
          "base_uri": "https://localhost:8080/"
        },
        "id": "5f030dbc",
        "outputId": "9e9bcbdb-35f1-40a1-fdb8-82243b77fc21"
      },
      "source": [
        "# The recall is the ratio tp / (tp + fn) \n",
        "recall = tp / (tp + fn)\n",
        "recall.round(2)"
      ],
      "id": "5f030dbc",
      "execution_count": 54,
      "outputs": [
        {
          "output_type": "execute_result",
          "data": {
            "text/plain": [
              "0.83"
            ]
          },
          "metadata": {},
          "execution_count": 54
        }
      ]
    },
    {
      "cell_type": "markdown",
      "metadata": {
        "id": "94c1f300"
      },
      "source": [
        "**F1 score:** https://en.wikipedia.org/wiki/F-score\n",
        "> The traditional F-measure or balanced F-score (F1 score) is the harmonic mean of precision and recall: "
      ],
      "id": "94c1f300"
    },
    {
      "cell_type": "code",
      "metadata": {
        "colab": {
          "base_uri": "https://localhost:8080/"
        },
        "id": "775e9648",
        "outputId": "680cff8a-a76f-4cd9-fc93-e6f31a2e3f7e"
      },
      "source": [
        "f1 = 2 * (precision * recall) / (precision + recall) # pos_label=1\n",
        "f1.round(2)"
      ],
      "id": "775e9648",
      "execution_count": 55,
      "outputs": [
        {
          "output_type": "execute_result",
          "data": {
            "text/plain": [
              "0.85"
            ]
          },
          "metadata": {},
          "execution_count": 55
        }
      ]
    },
    {
      "cell_type": "markdown",
      "metadata": {
        "id": "6442528a"
      },
      "source": [
        "**Classification report:** "
      ],
      "id": "6442528a"
    },
    {
      "cell_type": "code",
      "metadata": {
        "colab": {
          "base_uri": "https://localhost:8080/"
        },
        "id": "09e3f812",
        "outputId": "34377c03-9fa9-4973-d7a5-428921a74f4f"
      },
      "source": [
        "from sklearn.metrics import classification_report\n",
        "print(classification_report(y_train, y_train_predict_lg))"
      ],
      "id": "09e3f812",
      "execution_count": 56,
      "outputs": [
        {
          "output_type": "stream",
          "name": "stdout",
          "text": [
            "              precision    recall  f1-score   support\n",
            "\n",
            "           0       0.96      0.98      0.97      2984\n",
            "           1       0.88      0.83      0.85       636\n",
            "\n",
            "    accuracy                           0.95      3620\n",
            "   macro avg       0.92      0.90      0.91      3620\n",
            "weighted avg       0.95      0.95      0.95      3620\n",
            "\n"
          ]
        }
      ]
    },
    {
      "cell_type": "markdown",
      "metadata": {
        "id": "c4bfebe7"
      },
      "source": [
        "**Fβ score:** \n",
        "> A more general F score, Fβ, that uses a positive real factor β, where β is chosen such that recall is considered β times as important as precision: "
      ],
      "id": "c4bfebe7"
    },
    {
      "cell_type": "code",
      "metadata": {
        "colab": {
          "base_uri": "https://localhost:8080/"
        },
        "id": "b44eaf26",
        "outputId": "0cb28bfd-234e-4e08-e759-cc23b5f1ef87"
      },
      "source": [
        "beta = 1\n",
        "fbeta = (1 + beta**beta) * (precision * recall) / ((beta**beta * precision) + recall) # pos_label=1\n",
        "fbeta.round(2)"
      ],
      "id": "b44eaf26",
      "execution_count": 57,
      "outputs": [
        {
          "output_type": "execute_result",
          "data": {
            "text/plain": [
              "0.85"
            ]
          },
          "metadata": {},
          "execution_count": 57
        }
      ]
    },
    {
      "cell_type": "code",
      "metadata": {
        "colab": {
          "base_uri": "https://localhost:8080/"
        },
        "id": "af3e5128",
        "outputId": "fa1ce0c8-83c3-40b5-97a5-91086da558ed"
      },
      "source": [
        "from sklearn.metrics import fbeta_score\n",
        "fbeta = fbeta_score(y_train, y_train_predict_lg, beta=1, average='binary')  # pos_label=1\n",
        "fbeta.round(2)"
      ],
      "id": "af3e5128",
      "execution_count": 58,
      "outputs": [
        {
          "output_type": "execute_result",
          "data": {
            "text/plain": [
              "0.85"
            ]
          },
          "metadata": {},
          "execution_count": 58
        }
      ]
    },
    {
      "cell_type": "markdown",
      "metadata": {
        "id": "8a38e2cc"
      },
      "source": [
        "**F2 score:** \n",
        "> Two commonly used values for β are 2, which weighs recall higher than precision..."
      ],
      "id": "8a38e2cc"
    },
    {
      "cell_type": "code",
      "metadata": {
        "colab": {
          "base_uri": "https://localhost:8080/"
        },
        "id": "f9037335",
        "outputId": "cc9430cf-a57a-406b-ef93-d173b84732b9"
      },
      "source": [
        "f2 = fbeta_score(y_train, y_train_predict_lg, beta=2, average='binary')  # pos_label=1\n",
        "f2.round(2)"
      ],
      "id": "f9037335",
      "execution_count": 59,
      "outputs": [
        {
          "output_type": "execute_result",
          "data": {
            "text/plain": [
              "0.84"
            ]
          },
          "metadata": {},
          "execution_count": 59
        }
      ]
    },
    {
      "cell_type": "markdown",
      "metadata": {
        "id": "ace7175a"
      },
      "source": [
        "**F0.5 score:** \n",
        "> ...and 0.5, which weighs recall lower than precision. "
      ],
      "id": "ace7175a"
    },
    {
      "cell_type": "code",
      "metadata": {
        "colab": {
          "base_uri": "https://localhost:8080/"
        },
        "id": "d446bbd8",
        "outputId": "f449f7e3-04a5-45d0-a932-aedc773ace83"
      },
      "source": [
        "f_half = fbeta_score(y_train, y_train_predict_lg, beta=0.5, average='binary')  # pos_label=1\n",
        "f_half.round(2)"
      ],
      "id": "d446bbd8",
      "execution_count": 60,
      "outputs": [
        {
          "output_type": "execute_result",
          "data": {
            "text/plain": [
              "0.87"
            ]
          },
          "metadata": {},
          "execution_count": 60
        }
      ]
    },
    {
      "cell_type": "markdown",
      "metadata": {
        "id": "acd5bece"
      },
      "source": [
        "**Note:** we will use **F0.5 score** as the evalutaion metric for the models"
      ],
      "id": "acd5bece"
    },
    {
      "cell_type": "markdown",
      "metadata": {
        "id": "f704a56f"
      },
      "source": [
        "* ### K-fold cross validation ###"
      ],
      "id": "f704a56f"
    },
    {
      "cell_type": "markdown",
      "metadata": {
        "id": "3c34ebd3"
      },
      "source": [
        "**F0.5 scorer:** make a scorer from the **F0.5 score** metric:"
      ],
      "id": "3c34ebd3"
    },
    {
      "cell_type": "code",
      "metadata": {
        "colab": {
          "base_uri": "https://localhost:8080/"
        },
        "id": "8db426cd",
        "outputId": "a9049c45-8bba-4644-9b61-f45da701527e"
      },
      "source": [
        "from sklearn.metrics import make_scorer\n",
        "f_half_scorer = make_scorer(fbeta_score, beta=0.5)\n",
        "f_half_scorer"
      ],
      "id": "8db426cd",
      "execution_count": 61,
      "outputs": [
        {
          "output_type": "execute_result",
          "data": {
            "text/plain": [
              "make_scorer(fbeta_score, beta=0.5)"
            ]
          },
          "metadata": {},
          "execution_count": 61
        }
      ]
    },
    {
      "cell_type": "markdown",
      "metadata": {
        "id": "9b6728f3"
      },
      "source": [
        "**5-fold** cross validation: evaluate model performance using the  **F0.5 score** metric:"
      ],
      "id": "9b6728f3"
    },
    {
      "cell_type": "code",
      "metadata": {
        "colab": {
          "base_uri": "https://localhost:8080/"
        },
        "id": "766d9f16",
        "outputId": "bd259bab-caf3-49a1-c369-278f0ef67b38"
      },
      "source": [
        "from sklearn.model_selection import cross_val_score\n",
        "scores = cross_val_score(lg, X_train, y_train, cv=5, scoring=f_half_scorer)\n",
        "scores"
      ],
      "id": "766d9f16",
      "execution_count": 62,
      "outputs": [
        {
          "output_type": "execute_result",
          "data": {
            "text/plain": [
              "array([0.87114338, 0.7918552 , 0.83190395, 0.81183612, 0.87248322])"
            ]
          },
          "metadata": {},
          "execution_count": 62
        }
      ]
    },
    {
      "cell_type": "code",
      "metadata": {
        "colab": {
          "base_uri": "https://localhost:8080/"
        },
        "id": "7484eb95",
        "outputId": "22d16da8-9f7e-4def-d948-6be58412f95a"
      },
      "source": [
        "print(\"F0.5 score of %0.2f with a standard deviation of %0.2f\" % (scores.mean(), scores.std()))"
      ],
      "id": "7484eb95",
      "execution_count": 63,
      "outputs": [
        {
          "output_type": "stream",
          "name": "stdout",
          "text": [
            "F0.5 score of 0.84 with a standard deviation of 0.03\n"
          ]
        }
      ]
    },
    {
      "cell_type": "markdown",
      "metadata": {
        "id": "f2b29751"
      },
      "source": [
        "**5-fold** cross validation: evaluate model performance using the following metrics:\n",
        "\n",
        "* **Precision**\n",
        "* **Recall**\n",
        "* **F0.5 score**"
      ],
      "id": "f2b29751"
    },
    {
      "cell_type": "markdown",
      "metadata": {
        "id": "fae72c68"
      },
      "source": [
        "**Precision scorer:** make a scorer from the **precision_score** metric:"
      ],
      "id": "fae72c68"
    },
    {
      "cell_type": "code",
      "metadata": {
        "colab": {
          "base_uri": "https://localhost:8080/"
        },
        "id": "1de6641c",
        "outputId": "0f13bf4e-998e-4130-b2b8-58ebd7f5a2ee"
      },
      "source": [
        "from sklearn.metrics import precision_score\n",
        "precision_scorer = make_scorer(precision_score)\n",
        "precision_scorer"
      ],
      "id": "1de6641c",
      "execution_count": 64,
      "outputs": [
        {
          "output_type": "execute_result",
          "data": {
            "text/plain": [
              "make_scorer(precision_score)"
            ]
          },
          "metadata": {},
          "execution_count": 64
        }
      ]
    },
    {
      "cell_type": "markdown",
      "metadata": {
        "id": "45a5e2b3"
      },
      "source": [
        "**Recall scorer:** make a scorer from the **recall_score** metric:"
      ],
      "id": "45a5e2b3"
    },
    {
      "cell_type": "code",
      "metadata": {
        "colab": {
          "base_uri": "https://localhost:8080/"
        },
        "id": "c1125944",
        "outputId": "b98ea4f3-4647-4d9c-ccc0-1643df452bd0"
      },
      "source": [
        "from sklearn.metrics import recall_score\n",
        "recall_scorer = make_scorer(recall_score)\n",
        "recall_scorer"
      ],
      "id": "c1125944",
      "execution_count": 65,
      "outputs": [
        {
          "output_type": "execute_result",
          "data": {
            "text/plain": [
              "make_scorer(recall_score)"
            ]
          },
          "metadata": {},
          "execution_count": 65
        }
      ]
    },
    {
      "cell_type": "code",
      "metadata": {
        "id": "27d32332"
      },
      "source": [
        "# Use a dictionary with metric names as keys and callables a values\n",
        "triple_scoring = {'precision': precision_scorer, 'recall': recall_scorer, 'f_half': f_half_scorer}"
      ],
      "id": "27d32332",
      "execution_count": 66,
      "outputs": []
    },
    {
      "cell_type": "code",
      "metadata": {
        "scrolled": true,
        "colab": {
          "base_uri": "https://localhost:8080/"
        },
        "id": "7935ab88",
        "outputId": "b750a626-d75f-43ee-f64f-800d2e385a31"
      },
      "source": [
        "from sklearn.model_selection import cross_validate\n",
        "triple_scores = cross_validate(lg, X_train, y_train, cv=5, scoring=triple_scoring)\n",
        "triple_scores"
      ],
      "id": "7935ab88",
      "execution_count": 67,
      "outputs": [
        {
          "output_type": "execute_result",
          "data": {
            "text/plain": [
              "{'fit_time': array([0.07465482, 0.07518649, 0.08092308, 0.07353282, 0.08164954]),\n",
              " 'score_time': array([0.01100159, 0.0111196 , 0.01119399, 0.01099205, 0.01108694]),\n",
              " 'test_f_half': array([0.87114338, 0.7918552 , 0.83190395, 0.81183612, 0.87248322]),\n",
              " 'test_precision': array([0.90566038, 0.78358209, 0.85087719, 0.80451128, 0.88888889]),\n",
              " 'test_recall': array([0.75590551, 0.82677165, 0.76377953, 0.84251969, 0.8125    ])}"
            ]
          },
          "metadata": {},
          "execution_count": 67
        }
      ]
    },
    {
      "cell_type": "code",
      "metadata": {
        "scrolled": true,
        "colab": {
          "base_uri": "https://localhost:8080/"
        },
        "id": "69c18ed8",
        "outputId": "7b1433e1-ccc4-4126-d8ff-ab4375fada88"
      },
      "source": [
        "precision = triple_scores['test_precision']\n",
        "recall = triple_scores['test_recall']\n",
        "f_half = triple_scores['test_f_half']\n",
        "print(\"%0.2f Precision score with a standard deviation of %0.2f\" % (precision.mean(), precision.std()))\n",
        "print(\"%0.2f Recall score with a standard deviation of %0.2f\" % (recall.mean(), recall.std()))\n",
        "print(\"%0.2f F0.5 score with a standard deviation of %0.2f\" % (f_half.mean(), f_half.std()))"
      ],
      "id": "69c18ed8",
      "execution_count": 68,
      "outputs": [
        {
          "output_type": "stream",
          "name": "stdout",
          "text": [
            "0.85 Precision score with a standard deviation of 0.05\n",
            "0.80 Recall score with a standard deviation of 0.03\n",
            "0.84 F0.5 score with a standard deviation of 0.03\n"
          ]
        }
      ]
    },
    {
      "cell_type": "markdown",
      "metadata": {
        "id": "8221b075"
      },
      "source": [
        "### 4.8 Logistic regression: regularization ###"
      ],
      "id": "8221b075"
    },
    {
      "cell_type": "markdown",
      "metadata": {
        "id": "b905dbb2"
      },
      "source": [
        "* ### Finding the best C parameter ###"
      ],
      "id": "b905dbb2"
    },
    {
      "cell_type": "code",
      "metadata": {
        "scrolled": true,
        "colab": {
          "base_uri": "https://localhost:8080/"
        },
        "id": "f72e684a",
        "outputId": "dae66a9b-6d72-4d90-f229-9161b2b19266"
      },
      "source": [
        "for C in [0.001, 0.01, 0.1, 1, 10]:\n",
        "    lgr = LogisticRegression(solver='liblinear', random_state=42, C=C)\n",
        "    f_half_scores = cross_val_score(lgr, X_train, y_train, cv=5, scoring=f_half_scorer)\n",
        "    print('C=%s -> F0.5=%0.2f±%0.2f' % (C, f_half_scores.mean(), f_half_scores.std()))"
      ],
      "id": "f72e684a",
      "execution_count": 69,
      "outputs": [
        {
          "output_type": "stream",
          "name": "stdout",
          "text": [
            "C=0.001 -> F0.5=0.84±0.01\n",
            "C=0.01 -> F0.5=0.85±0.02\n",
            "C=0.1 -> F0.5=0.84±0.03\n",
            "C=1 -> F0.5=0.84±0.03\n",
            "C=10 -> F0.5=0.83±0.03\n"
          ]
        }
      ]
    },
    {
      "cell_type": "markdown",
      "metadata": {
        "id": "5df5e55e"
      },
      "source": [
        "**C=0.01:** we select the C paramter with the best **F0.5 score**"
      ],
      "id": "5df5e55e"
    },
    {
      "cell_type": "markdown",
      "metadata": {
        "id": "a1b3a11d"
      },
      "source": [
        "* ### Fit the model ###"
      ],
      "id": "a1b3a11d"
    },
    {
      "cell_type": "code",
      "metadata": {
        "colab": {
          "base_uri": "https://localhost:8080/"
        },
        "id": "84d37213",
        "outputId": "54a9f3ad-8065-4046-d45c-10432222514f"
      },
      "source": [
        "# Fit the lgr model with C=0.01\n",
        "lgr = LogisticRegression(solver='liblinear', random_state=42, C=0.01)\n",
        "lgr.fit(X_train, y_train)"
      ],
      "id": "84d37213",
      "execution_count": 70,
      "outputs": [
        {
          "output_type": "execute_result",
          "data": {
            "text/plain": [
              "LogisticRegression(C=0.01, random_state=42, solver='liblinear')"
            ]
          },
          "metadata": {},
          "execution_count": 70
        }
      ]
    },
    {
      "cell_type": "markdown",
      "metadata": {
        "id": "c81309a4"
      },
      "source": [
        "* ### Train data probability predictions ###"
      ],
      "id": "c81309a4"
    },
    {
      "cell_type": "code",
      "metadata": {
        "id": "8260fd34"
      },
      "source": [
        "y_train_predict_proba_lgr = lgr.predict_proba(X_train)[:, -1]"
      ],
      "id": "8260fd34",
      "execution_count": 71,
      "outputs": []
    },
    {
      "cell_type": "markdown",
      "metadata": {
        "id": "569b2b36"
      },
      "source": [
        "* ### Finding the best threshold ###"
      ],
      "id": "569b2b36"
    },
    {
      "cell_type": "code",
      "metadata": {
        "colab": {
          "base_uri": "https://localhost:8080/"
        },
        "id": "bfacb1c8",
        "outputId": "910769af-716a-4a95-e2e5-1ac2fec3d0ae"
      },
      "source": [
        "from sklearn.metrics import precision_score, recall_score, fbeta_score, roc_auc_score, average_precision_score\n",
        "\n",
        "thresholds = np.linspace(0, 1, 101)\n",
        "\n",
        "prec_scores = []\n",
        "recall_scores = []\n",
        "f_half_scores = []\n",
        "\n",
        "for t in thresholds:\n",
        "    extrovert_predict = (y_train_predict_proba_lgr >= t)\n",
        "    \n",
        "    prec = precision_score(y_train, extrovert_predict)\n",
        "    prec_scores.append(prec)\n",
        "    \n",
        "    recall = recall_score(y_train, extrovert_predict)\n",
        "    recall_scores.append(recall)\n",
        "    \n",
        "    f_half = fbeta_score(y_train, extrovert_predict, beta=0.5)\n",
        "    f_half_scores.append(f_half)\n",
        "    \n",
        "    roc_auc = roc_auc_score(y_train, extrovert_predict)\n",
        "    ap = average_precision_score(y_train, extrovert_predict)\n",
        "    \n",
        "    print(\"%0.2f -> %0.2f | %0.2f | %0.2f | %0.2f | %0.2f\" % (t, prec, recall, f_half, roc_auc, ap ))"
      ],
      "id": "bfacb1c8",
      "execution_count": 72,
      "outputs": [
        {
          "output_type": "stream",
          "name": "stdout",
          "text": [
            "0.00 -> 0.18 | 1.00 | 0.21 | 0.50 | 0.18\n",
            "0.01 -> 0.34 | 1.00 | 0.39 | 0.79 | 0.34\n",
            "0.02 -> 0.41 | 0.99 | 0.46 | 0.84 | 0.41\n",
            "0.03 -> 0.45 | 0.99 | 0.51 | 0.87 | 0.45\n",
            "0.04 -> 0.49 | 0.98 | 0.55 | 0.88 | 0.49\n",
            "0.05 -> 0.53 | 0.98 | 0.58 | 0.90 | 0.52\n",
            "0.06 -> 0.55 | 0.98 | 0.61 | 0.91 | 0.55\n",
            "0.07 -> 0.57 | 0.97 | 0.62 | 0.91 | 0.56\n",
            "0.08 -> 0.60 | 0.97 | 0.65 | 0.92 | 0.59\n",
            "0.09 -> 0.61 | 0.97 | 0.66 | 0.92 | 0.60\n",
            "0.10 -> 0.63 | 0.97 | 0.68 | 0.93 | 0.62\n",
            "0.11 -> 0.64 | 0.96 | 0.69 | 0.92 | 0.63\n",
            "0.12 -> 0.66 | 0.96 | 0.70 | 0.93 | 0.64\n",
            "0.13 -> 0.67 | 0.96 | 0.71 | 0.93 | 0.65\n",
            "0.14 -> 0.68 | 0.96 | 0.72 | 0.93 | 0.66\n",
            "0.15 -> 0.69 | 0.95 | 0.73 | 0.93 | 0.67\n",
            "0.16 -> 0.70 | 0.94 | 0.74 | 0.93 | 0.67\n",
            "0.17 -> 0.71 | 0.94 | 0.75 | 0.93 | 0.68\n",
            "0.18 -> 0.72 | 0.94 | 0.75 | 0.93 | 0.69\n",
            "0.19 -> 0.73 | 0.94 | 0.76 | 0.93 | 0.69\n",
            "0.20 -> 0.74 | 0.93 | 0.77 | 0.93 | 0.70\n",
            "0.21 -> 0.75 | 0.93 | 0.78 | 0.93 | 0.71\n",
            "0.22 -> 0.75 | 0.93 | 0.78 | 0.93 | 0.71\n",
            "0.23 -> 0.76 | 0.93 | 0.79 | 0.93 | 0.72\n",
            "0.24 -> 0.76 | 0.93 | 0.79 | 0.93 | 0.72\n",
            "0.25 -> 0.77 | 0.93 | 0.80 | 0.93 | 0.73\n",
            "0.26 -> 0.78 | 0.92 | 0.81 | 0.93 | 0.73\n",
            "0.27 -> 0.78 | 0.92 | 0.80 | 0.93 | 0.73\n",
            "0.28 -> 0.78 | 0.92 | 0.81 | 0.93 | 0.73\n",
            "0.29 -> 0.79 | 0.91 | 0.81 | 0.93 | 0.73\n",
            "0.30 -> 0.79 | 0.91 | 0.81 | 0.93 | 0.74\n",
            "0.31 -> 0.80 | 0.90 | 0.82 | 0.93 | 0.74\n",
            "0.32 -> 0.80 | 0.89 | 0.82 | 0.92 | 0.73\n",
            "0.33 -> 0.81 | 0.89 | 0.83 | 0.92 | 0.74\n",
            "0.34 -> 0.81 | 0.89 | 0.83 | 0.92 | 0.74\n",
            "0.35 -> 0.82 | 0.89 | 0.83 | 0.92 | 0.75\n",
            "0.36 -> 0.83 | 0.88 | 0.84 | 0.92 | 0.76\n",
            "0.37 -> 0.84 | 0.88 | 0.84 | 0.92 | 0.76\n",
            "0.38 -> 0.84 | 0.88 | 0.85 | 0.92 | 0.76\n",
            "0.39 -> 0.85 | 0.88 | 0.85 | 0.92 | 0.77\n",
            "0.40 -> 0.85 | 0.87 | 0.86 | 0.92 | 0.77\n",
            "0.41 -> 0.86 | 0.87 | 0.86 | 0.92 | 0.77\n",
            "0.42 -> 0.86 | 0.86 | 0.86 | 0.91 | 0.76\n",
            "0.43 -> 0.86 | 0.85 | 0.86 | 0.91 | 0.76\n",
            "0.44 -> 0.87 | 0.85 | 0.86 | 0.91 | 0.76\n",
            "0.45 -> 0.87 | 0.84 | 0.87 | 0.91 | 0.76\n",
            "0.46 -> 0.87 | 0.84 | 0.86 | 0.91 | 0.76\n",
            "0.47 -> 0.87 | 0.83 | 0.86 | 0.90 | 0.75\n",
            "0.48 -> 0.87 | 0.82 | 0.86 | 0.90 | 0.75\n",
            "0.49 -> 0.87 | 0.82 | 0.86 | 0.90 | 0.75\n",
            "0.50 -> 0.88 | 0.81 | 0.86 | 0.90 | 0.75\n",
            "0.51 -> 0.88 | 0.81 | 0.87 | 0.89 | 0.75\n",
            "0.52 -> 0.88 | 0.80 | 0.86 | 0.89 | 0.74\n",
            "0.53 -> 0.89 | 0.80 | 0.87 | 0.89 | 0.74\n",
            "0.54 -> 0.89 | 0.79 | 0.87 | 0.89 | 0.74\n",
            "0.55 -> 0.89 | 0.78 | 0.87 | 0.88 | 0.74\n",
            "0.56 -> 0.89 | 0.78 | 0.87 | 0.88 | 0.74\n",
            "0.57 -> 0.90 | 0.78 | 0.87 | 0.88 | 0.74\n",
            "0.58 -> 0.91 | 0.77 | 0.88 | 0.88 | 0.74\n",
            "0.59 -> 0.91 | 0.77 | 0.88 | 0.88 | 0.74\n",
            "0.60 -> 0.91 | 0.76 | 0.87 | 0.87 | 0.73\n",
            "0.61 -> 0.91 | 0.75 | 0.88 | 0.87 | 0.73\n",
            "0.62 -> 0.91 | 0.75 | 0.87 | 0.87 | 0.73\n",
            "0.63 -> 0.92 | 0.74 | 0.88 | 0.86 | 0.73\n",
            "0.64 -> 0.92 | 0.74 | 0.88 | 0.86 | 0.73\n",
            "0.65 -> 0.92 | 0.74 | 0.88 | 0.86 | 0.72\n",
            "0.66 -> 0.92 | 0.73 | 0.87 | 0.86 | 0.72\n",
            "0.67 -> 0.92 | 0.72 | 0.87 | 0.86 | 0.72\n",
            "0.68 -> 0.93 | 0.72 | 0.88 | 0.85 | 0.71\n",
            "0.69 -> 0.94 | 0.71 | 0.88 | 0.85 | 0.72\n",
            "0.70 -> 0.94 | 0.71 | 0.88 | 0.85 | 0.72\n",
            "0.71 -> 0.94 | 0.70 | 0.88 | 0.84 | 0.71\n",
            "0.72 -> 0.94 | 0.68 | 0.88 | 0.84 | 0.70\n",
            "0.73 -> 0.95 | 0.68 | 0.88 | 0.84 | 0.70\n",
            "0.74 -> 0.95 | 0.67 | 0.88 | 0.83 | 0.70\n",
            "0.75 -> 0.95 | 0.67 | 0.87 | 0.83 | 0.69\n",
            "0.76 -> 0.95 | 0.66 | 0.87 | 0.82 | 0.68\n",
            "0.77 -> 0.95 | 0.64 | 0.87 | 0.82 | 0.67\n",
            "0.78 -> 0.96 | 0.64 | 0.87 | 0.82 | 0.67\n",
            "0.79 -> 0.96 | 0.63 | 0.87 | 0.81 | 0.67\n",
            "0.80 -> 0.96 | 0.62 | 0.86 | 0.81 | 0.66\n",
            "0.81 -> 0.96 | 0.61 | 0.86 | 0.80 | 0.65\n",
            "0.82 -> 0.97 | 0.59 | 0.86 | 0.80 | 0.65\n",
            "0.83 -> 0.97 | 0.58 | 0.86 | 0.79 | 0.64\n",
            "0.84 -> 0.97 | 0.57 | 0.85 | 0.78 | 0.63\n",
            "0.85 -> 0.97 | 0.55 | 0.84 | 0.77 | 0.61\n",
            "0.86 -> 0.97 | 0.54 | 0.83 | 0.77 | 0.60\n",
            "0.87 -> 0.97 | 0.53 | 0.83 | 0.76 | 0.59\n",
            "0.88 -> 0.97 | 0.51 | 0.82 | 0.75 | 0.58\n",
            "0.89 -> 0.97 | 0.49 | 0.81 | 0.74 | 0.56\n",
            "0.90 -> 0.97 | 0.46 | 0.79 | 0.73 | 0.54\n",
            "0.91 -> 0.97 | 0.44 | 0.78 | 0.72 | 0.52\n",
            "0.92 -> 0.97 | 0.42 | 0.77 | 0.71 | 0.51\n",
            "0.93 -> 0.98 | 0.39 | 0.75 | 0.70 | 0.49\n",
            "0.94 -> 0.98 | 0.37 | 0.73 | 0.68 | 0.47\n",
            "0.95 -> 0.98 | 0.34 | 0.71 | 0.67 | 0.45\n",
            "0.96 -> 0.98 | 0.31 | 0.68 | 0.65 | 0.42\n",
            "0.97 -> 0.98 | 0.27 | 0.64 | 0.63 | 0.39\n",
            "0.98 -> 0.98 | 0.21 | 0.56 | 0.60 | 0.34\n",
            "0.99 -> 0.97 | 0.12 | 0.39 | 0.56 | 0.27\n",
            "1.00 -> 0.00 | 0.00 | 0.00 | 0.50 | 0.18\n"
          ]
        },
        {
          "output_type": "stream",
          "name": "stderr",
          "text": [
            "/usr/local/lib/python3.7/dist-packages/sklearn/metrics/_classification.py:1308: UndefinedMetricWarning: Precision is ill-defined and being set to 0.0 due to no predicted samples. Use `zero_division` parameter to control this behavior.\n",
            "  _warn_prf(average, modifier, msg_start, len(result))\n"
          ]
        }
      ]
    },
    {
      "cell_type": "markdown",
      "metadata": {
        "id": "0aa32944"
      },
      "source": [
        "**Threshold=0.59:** we select the threshold with the best **Precision score (=0.91)** for a **Recall score (=0.77)** not lesser than 0.75"
      ],
      "id": "0aa32944"
    },
    {
      "cell_type": "markdown",
      "metadata": {
        "id": "f8b74fe0"
      },
      "source": [
        "* ### Train data predictions ###"
      ],
      "id": "f8b74fe0"
    },
    {
      "cell_type": "code",
      "metadata": {
        "id": "41368b20"
      },
      "source": [
        "y_train_predict_lgr = (y_train_predict_proba_lgr >= 0.59)"
      ],
      "id": "41368b20",
      "execution_count": 73,
      "outputs": []
    },
    {
      "cell_type": "markdown",
      "metadata": {
        "id": "874bea54"
      },
      "source": [
        "**Confusion matrix:** "
      ],
      "id": "874bea54"
    },
    {
      "cell_type": "code",
      "metadata": {
        "colab": {
          "base_uri": "https://localhost:8080/",
          "height": 302
        },
        "id": "0175064b",
        "outputId": "6d3f9254-fc62-43c1-83ba-8dd613a656b2"
      },
      "source": [
        "# Display the confusion_matrix\n",
        "cm = confusion_matrix(y_train, y_train_predict_lgr)\n",
        "cmd = ConfusionMatrixDisplay(confusion_matrix=cm, display_labels=lgr.classes_)\n",
        "cmd.plot(values_format='d')"
      ],
      "id": "0175064b",
      "execution_count": 74,
      "outputs": [
        {
          "output_type": "execute_result",
          "data": {
            "text/plain": [
              "<sklearn.metrics._plot.confusion_matrix.ConfusionMatrixDisplay at 0x7fe8ef8b9450>"
            ]
          },
          "metadata": {},
          "execution_count": 74
        },
        {
          "output_type": "display_data",
          "data": {
            "image/png": "[encoded data removed]",
            "text/plain": [
              "<Figure size 432x288 with 2 Axes>"
            ]
          },
          "metadata": {}
        }
      ]
    },
    {
      "cell_type": "markdown",
      "metadata": {
        "id": "3c5773ec"
      },
      "source": [
        "**Classification report:** "
      ],
      "id": "3c5773ec"
    },
    {
      "cell_type": "code",
      "metadata": {
        "colab": {
          "base_uri": "https://localhost:8080/"
        },
        "id": "2069f9bf",
        "outputId": "0cfd04c1-ce4b-4f45-edb6-dd819c83049e"
      },
      "source": [
        "print(classification_report(y_train, y_train_predict_lgr))"
      ],
      "id": "2069f9bf",
      "execution_count": 75,
      "outputs": [
        {
          "output_type": "stream",
          "name": "stdout",
          "text": [
            "              precision    recall  f1-score   support\n",
            "\n",
            "           0       0.95      0.98      0.97      2984\n",
            "           1       0.91      0.77      0.83       636\n",
            "\n",
            "    accuracy                           0.95      3620\n",
            "   macro avg       0.93      0.88      0.90      3620\n",
            "weighted avg       0.94      0.95      0.94      3620\n",
            "\n"
          ]
        }
      ]
    },
    {
      "cell_type": "markdown",
      "metadata": {
        "id": "1e0943af"
      },
      "source": [
        "**F0.5 score** for **lgr** model"
      ],
      "id": "1e0943af"
    },
    {
      "cell_type": "code",
      "metadata": {
        "colab": {
          "base_uri": "https://localhost:8080/"
        },
        "id": "affe8f7c",
        "outputId": "524a8e3b-4bf3-44b5-e49f-3eb46968d51f"
      },
      "source": [
        "f_half_lgr = fbeta_score(y_train, y_train_predict_lgr, beta=0.5, average='binary')  # pos_label=1\n",
        "f_half_lgr.round(2)"
      ],
      "id": "affe8f7c",
      "execution_count": 76,
      "outputs": [
        {
          "output_type": "execute_result",
          "data": {
            "text/plain": [
              "0.88"
            ]
          },
          "metadata": {},
          "execution_count": 76
        }
      ]
    },
    {
      "cell_type": "code",
      "metadata": {
        "colab": {
          "base_uri": "https://localhost:8080/",
          "height": 356
        },
        "id": "e5cf7956",
        "outputId": "9ac7e041-8f85-4838-982f-750d15619a75"
      },
      "source": [
        "plt.figure(figsize=(5, 5))\n",
        "plt.plot(thresholds, prec_scores, label='Precision')\n",
        "plt.plot(thresholds, recall_scores, label='Recall')\n",
        "plt.plot(thresholds, f_half_scores, label='f_half')\n",
        "plt.legend(loc='lower center')\n",
        "plt.xlabel('Threshold')\n",
        "plt.ylabel('Score')\n",
        "plt.title('Scores vs. Thresholds')\n",
        "fig.tight_layout()"
      ],
      "id": "e5cf7956",
      "execution_count": 77,
      "outputs": [
        {
          "output_type": "display_data",
          "data": {
            "image/png": "[encoded data removed]",
            "text/plain": [
              "<Figure size 360x360 with 1 Axes>"
            ]
          },
          "metadata": {}
        }
      ]
    },
    {
      "cell_type": "markdown",
      "metadata": {
        "id": "80a98e5b"
      },
      "source": [
        "* ### Test data probability predictions ###"
      ],
      "id": "80a98e5b"
    },
    {
      "cell_type": "code",
      "metadata": {
        "id": "f37a83f5"
      },
      "source": [
        "y_test_predict_proba_lgr = lgr.predict_proba(X_test)[:, -1]"
      ],
      "id": "f37a83f5",
      "execution_count": 78,
      "outputs": []
    },
    {
      "cell_type": "code",
      "metadata": {
        "id": "684e8b2b"
      },
      "source": [
        "y_test_predict_lgr = (y_test_predict_proba_lgr >= 0.59)"
      ],
      "id": "684e8b2b",
      "execution_count": 79,
      "outputs": []
    },
    {
      "cell_type": "markdown",
      "metadata": {
        "id": "52f842b3"
      },
      "source": [
        "**Confusion matrix: test data predictions** "
      ],
      "id": "52f842b3"
    },
    {
      "cell_type": "code",
      "metadata": {
        "scrolled": true,
        "colab": {
          "base_uri": "https://localhost:8080/",
          "height": 302
        },
        "id": "571185ff",
        "outputId": "e3fd71c4-0a7e-487b-efa7-de49152d9e49"
      },
      "source": [
        "# Display the confusion_matrix\n",
        "cm = confusion_matrix(y_test, y_test_predict_lgr)\n",
        "cmd = ConfusionMatrixDisplay(confusion_matrix=cm, display_labels=lgr.classes_)\n",
        "cmd.plot(values_format='d')"
      ],
      "id": "571185ff",
      "execution_count": 80,
      "outputs": [
        {
          "output_type": "execute_result",
          "data": {
            "text/plain": [
              "<sklearn.metrics._plot.confusion_matrix.ConfusionMatrixDisplay at 0x7fe8ef748250>"
            ]
          },
          "metadata": {},
          "execution_count": 80
        },
        {
          "output_type": "display_data",
          "data": {
            "image/png": "[encoded data removed]",
            "text/plain": [
              "<Figure size 432x288 with 2 Axes>"
            ]
          },
          "metadata": {}
        }
      ]
    },
    {
      "cell_type": "markdown",
      "metadata": {
        "id": "eb0747ea"
      },
      "source": [
        "**Classification report: test data predictions** "
      ],
      "id": "eb0747ea"
    },
    {
      "cell_type": "code",
      "metadata": {
        "colab": {
          "base_uri": "https://localhost:8080/"
        },
        "id": "65885d09",
        "outputId": "07beebe1-b50e-45ab-98b7-2000e1f318a6"
      },
      "source": [
        "print(classification_report(y_test, y_test_predict_lgr))"
      ],
      "id": "65885d09",
      "execution_count": 81,
      "outputs": [
        {
          "output_type": "stream",
          "name": "stdout",
          "text": [
            "              precision    recall  f1-score   support\n",
            "\n",
            "           0       0.94      0.98      0.96       729\n",
            "           1       0.90      0.75      0.81       177\n",
            "\n",
            "    accuracy                           0.93       906\n",
            "   macro avg       0.92      0.86      0.89       906\n",
            "weighted avg       0.93      0.93      0.93       906\n",
            "\n"
          ]
        }
      ]
    },
    {
      "cell_type": "markdown",
      "metadata": {
        "id": "01c8b6be"
      },
      "source": [
        "**F0.5 score: test data predictions** "
      ],
      "id": "01c8b6be"
    },
    {
      "cell_type": "code",
      "metadata": {
        "colab": {
          "base_uri": "https://localhost:8080/"
        },
        "id": "b97a22e6",
        "outputId": "1a53cb4f-3ca0-43cf-c7ff-a445afa3c41f"
      },
      "source": [
        "f_half_lgr_test = fbeta_score(y_test, y_test_predict_lgr, beta=0.5, average='binary')  # pos_label=1\n",
        "f_half_lgr_test.round(2)"
      ],
      "id": "b97a22e6",
      "execution_count": 82,
      "outputs": [
        {
          "output_type": "execute_result",
          "data": {
            "text/plain": [
              "0.86"
            ]
          },
          "metadata": {},
          "execution_count": 82
        }
      ]
    },
    {
      "cell_type": "markdown",
      "metadata": {
        "id": "8aba58e8"
      },
      "source": [
        "**Model selection:** we see that lgr model (C=0.01, Treshold=0.59) yielded a precision score of 0.90 and a recall score of 0.75 when applied on the test data. Hence we select this model for the business problem."
      ],
      "id": "8aba58e8"
    },
    {
      "cell_type": "markdown",
      "metadata": {
        "id": "2effd778"
      },
      "source": [
        "### 4.9 Logistic regression: 'balanced' data ###"
      ],
      "id": "2effd778"
    },
    {
      "cell_type": "markdown",
      "metadata": {
        "id": "66c499e4"
      },
      "source": [
        "* To overcome the imbalanced data we will use the class_weight parameter:\n",
        "> The “balanced” mode uses the values of y to automatically adjust weights inversely proportional to class frequencies in the input data"
      ],
      "id": "66c499e4"
    },
    {
      "cell_type": "markdown",
      "metadata": {
        "id": "ce09c973"
      },
      "source": [
        "* ### Fit the model ###"
      ],
      "id": "ce09c973"
    },
    {
      "cell_type": "code",
      "metadata": {
        "colab": {
          "base_uri": "https://localhost:8080/"
        },
        "id": "ee360c30",
        "outputId": "97206fcc-8fab-421a-9de7-d7707b30a98e"
      },
      "source": [
        "lgb = LogisticRegression(solver='liblinear', random_state=42, class_weight='balanced')\n",
        "lgb.fit(X_train, y_train)"
      ],
      "id": "ee360c30",
      "execution_count": 83,
      "outputs": [
        {
          "output_type": "execute_result",
          "data": {
            "text/plain": [
              "LogisticRegression(class_weight='balanced', random_state=42, solver='liblinear')"
            ]
          },
          "metadata": {},
          "execution_count": 83
        }
      ]
    },
    {
      "cell_type": "markdown",
      "metadata": {
        "id": "992889bc"
      },
      "source": [
        "* ### Train data predictions ###"
      ],
      "id": "992889bc"
    },
    {
      "cell_type": "code",
      "metadata": {
        "id": "2af371a7"
      },
      "source": [
        "y_train_predict_lgb = lgb.predict(X_train)"
      ],
      "id": "2af371a7",
      "execution_count": 84,
      "outputs": []
    },
    {
      "cell_type": "code",
      "metadata": {
        "scrolled": true,
        "colab": {
          "base_uri": "https://localhost:8080/",
          "height": 302
        },
        "id": "dd01a052",
        "outputId": "e7941c5a-5a0a-46f6-99d6-e0751cdfc08d"
      },
      "source": [
        "# Display the confusion_matrix\n",
        "cm = confusion_matrix(y_train, y_train_predict_lgb)\n",
        "cmd = ConfusionMatrixDisplay(confusion_matrix=cm, display_labels=lgb.classes_)\n",
        "cmd.plot(values_format='d')"
      ],
      "id": "dd01a052",
      "execution_count": 85,
      "outputs": [
        {
          "output_type": "execute_result",
          "data": {
            "text/plain": [
              "<sklearn.metrics._plot.confusion_matrix.ConfusionMatrixDisplay at 0x7fe8ef7d1350>"
            ]
          },
          "metadata": {},
          "execution_count": 85
        },
        {
          "output_type": "display_data",
          "data": {
            "image/png": "[encoded data removed]",
            "text/plain": [
              "<Figure size 432x288 with 2 Axes>"
            ]
          },
          "metadata": {}
        }
      ]
    },
    {
      "cell_type": "code",
      "metadata": {
        "scrolled": false,
        "colab": {
          "base_uri": "https://localhost:8080/"
        },
        "id": "494292d3",
        "outputId": "8c1a36cd-682d-4822-f4f9-301b4f1295cd"
      },
      "source": [
        "print(classification_report(y_train, y_train_predict_lgb))"
      ],
      "id": "494292d3",
      "execution_count": 86,
      "outputs": [
        {
          "output_type": "stream",
          "name": "stdout",
          "text": [
            "              precision    recall  f1-score   support\n",
            "\n",
            "           0       0.99      0.93      0.96      2984\n",
            "           1       0.74      0.94      0.83       636\n",
            "\n",
            "    accuracy                           0.93      3620\n",
            "   macro avg       0.86      0.93      0.89      3620\n",
            "weighted avg       0.94      0.93      0.93      3620\n",
            "\n"
          ]
        }
      ]
    },
    {
      "cell_type": "markdown",
      "metadata": {
        "id": "1c33fb0e"
      },
      "source": [
        "**F0.5 score** for **lgb** model"
      ],
      "id": "1c33fb0e"
    },
    {
      "cell_type": "code",
      "metadata": {
        "colab": {
          "base_uri": "https://localhost:8080/"
        },
        "id": "9fbd64ea",
        "outputId": "26e2e798-bdc8-4123-9725-96cc1a1326d3"
      },
      "source": [
        "f_half_lgb = fbeta_score(y_train, y_train_predict_lgb, beta=0.5, average='binary')  # pos_label=1\n",
        "f_half_lgb.round(2)"
      ],
      "id": "9fbd64ea",
      "execution_count": 87,
      "outputs": [
        {
          "output_type": "execute_result",
          "data": {
            "text/plain": [
              "0.77"
            ]
          },
          "metadata": {},
          "execution_count": 87
        }
      ]
    },
    {
      "cell_type": "markdown",
      "metadata": {
        "id": "e51d27c2"
      },
      "source": [
        "**5-fold** cross validation for **lgb** model"
      ],
      "id": "e51d27c2"
    },
    {
      "cell_type": "code",
      "metadata": {
        "colab": {
          "base_uri": "https://localhost:8080/"
        },
        "id": "a0d7bf9f",
        "outputId": "b2296fa6-db5e-4438-ee5f-ba99b314aaa6"
      },
      "source": [
        "triple_scores = cross_validate(lgb, X_train, y_train, cv=5, scoring=triple_scoring)\n",
        "triple_scores"
      ],
      "id": "a0d7bf9f",
      "execution_count": 88,
      "outputs": [
        {
          "output_type": "execute_result",
          "data": {
            "text/plain": [
              "{'fit_time': array([0.06693172, 0.09982252, 0.09203744, 0.09607911, 0.0847044 ]),\n",
              " 'score_time': array([0.01228476, 0.01140213, 0.01147127, 0.01138949, 0.01144457]),\n",
              " 'test_f_half': array([0.78404402, 0.75096277, 0.75757576, 0.72692794, 0.71341463]),\n",
              " 'test_precision': array([0.76      , 0.71779141, 0.7278481 , 0.69277108, 0.67630058]),\n",
              " 'test_recall': array([0.8976378 , 0.92125984, 0.90551181, 0.90551181, 0.9140625 ])}"
            ]
          },
          "metadata": {},
          "execution_count": 88
        }
      ]
    },
    {
      "cell_type": "code",
      "metadata": {
        "colab": {
          "base_uri": "https://localhost:8080/"
        },
        "id": "ad402750",
        "outputId": "3af21fe9-82ac-480e-a930-aa9f1647edb0"
      },
      "source": [
        "precision = triple_scores['test_precision']\n",
        "recall = triple_scores['test_recall']\n",
        "f_half = triple_scores['test_f_half']\n",
        "print(\"%0.2f Precision score with a standard deviation of %0.2f\" % (precision.mean(), precision.std()))\n",
        "print(\"%0.2f Recall score with a standard deviation of %0.2f\" % (recall.mean(), recall.std()))\n",
        "print(\"%0.2f F0.5 score with a standard deviation of %0.2f\" % (f_half.mean(), f_half.std()))"
      ],
      "id": "ad402750",
      "execution_count": 89,
      "outputs": [
        {
          "output_type": "stream",
          "name": "stdout",
          "text": [
            "0.71 Precision score with a standard deviation of 0.03\n",
            "0.91 Recall score with a standard deviation of 0.01\n",
            "0.75 F0.5 score with a standard deviation of 0.02\n"
          ]
        }
      ]
    },
    {
      "cell_type": "markdown",
      "metadata": {
        "id": "c10fcc00"
      },
      "source": [
        "## 4.10 Evaluation metrics ##"
      ],
      "id": "c10fcc00"
    },
    {
      "cell_type": "markdown",
      "metadata": {
        "id": "6364b01d"
      },
      "source": [
        "* ### ROC curves ###"
      ],
      "id": "6364b01d"
    },
    {
      "cell_type": "code",
      "metadata": {
        "id": "b6d84b43"
      },
      "source": [
        "from sklearn.metrics import RocCurveDisplay, roc_auc_score"
      ],
      "id": "b6d84b43",
      "execution_count": 90,
      "outputs": []
    },
    {
      "cell_type": "code",
      "metadata": {
        "id": "99ffca34"
      },
      "source": [
        "# Train data probability predictions \n",
        "y_train_predict_proba_lg = lg.predict_proba(X_train)[:, -1]\n",
        "y_train_predict_proba_lgb = lgb.predict_proba(X_train)[:, -1]"
      ],
      "id": "99ffca34",
      "execution_count": 91,
      "outputs": []
    },
    {
      "cell_type": "code",
      "metadata": {
        "scrolled": true,
        "colab": {
          "base_uri": "https://localhost:8080/",
          "height": 285
        },
        "id": "582c010b",
        "outputId": "60e1a3a5-0f3b-4c21-fc84-32954f9e8de6"
      },
      "source": [
        "# ROC curves for lg & lgb models\n",
        "rcd_lg = RocCurveDisplay.from_predictions(y_train, y_train_predict_proba_lg, name='lg  ')\n",
        "rcd_lgb = RocCurveDisplay.from_predictions(y_train, y_train_predict_proba_lgb, name='lgb', ax=rcd_lg.ax_)"
      ],
      "id": "582c010b",
      "execution_count": 92,
      "outputs": [
        {
          "output_type": "display_data",
          "data": {
            "image/png": "[encoded data removed]",
            "text/plain": [
              "<Figure size 432x288 with 1 Axes>"
            ]
          },
          "metadata": {}
        }
      ]
    },
    {
      "cell_type": "code",
      "metadata": {
        "colab": {
          "base_uri": "https://localhost:8080/"
        },
        "id": "f41423e1",
        "outputId": "e3865c31-8bc2-495b-b130-68c4c762161f"
      },
      "source": [
        "# lg model ROC AUC\n",
        "roc_auc_score(y_train, y_train_predict_proba_lg).round(4)"
      ],
      "id": "f41423e1",
      "execution_count": 93,
      "outputs": [
        {
          "output_type": "execute_result",
          "data": {
            "text/plain": [
              "0.981"
            ]
          },
          "metadata": {},
          "execution_count": 93
        }
      ]
    },
    {
      "cell_type": "code",
      "metadata": {
        "colab": {
          "base_uri": "https://localhost:8080/"
        },
        "id": "847fcdc3",
        "outputId": "25101703-d4c3-4e9e-841b-7b4672566edd"
      },
      "source": [
        "# lgb model ROC AUC\n",
        "roc_auc_score(y_train, y_train_predict_proba_lgb).round(4)"
      ],
      "id": "847fcdc3",
      "execution_count": 94,
      "outputs": [
        {
          "output_type": "execute_result",
          "data": {
            "text/plain": [
              "0.9815"
            ]
          },
          "metadata": {},
          "execution_count": 94
        }
      ]
    },
    {
      "cell_type": "markdown",
      "metadata": {
        "id": "63b117ca"
      },
      "source": [
        "* ### Precision Recall (PR) curves ###"
      ],
      "id": "63b117ca"
    },
    {
      "cell_type": "code",
      "metadata": {
        "id": "94c97a7c"
      },
      "source": [
        "from sklearn.metrics import PrecisionRecallDisplay, auc"
      ],
      "id": "94c97a7c",
      "execution_count": 95,
      "outputs": []
    },
    {
      "cell_type": "code",
      "metadata": {
        "colab": {
          "base_uri": "https://localhost:8080/",
          "height": 285
        },
        "id": "9c272994",
        "outputId": "2e2dbf94-98d8-48b9-a387-b6653f4dd10a"
      },
      "source": [
        "# PR curves for lg & lgb models\n",
        "prd_lg = PrecisionRecallDisplay.from_predictions(y_train, y_train_predict_proba_lg, name='lg  ')\n",
        "prd_lgb = PrecisionRecallDisplay.from_predictions(y_train, y_train_predict_proba_lgb, name='lgb', ax=prd_lg.ax_)"
      ],
      "id": "9c272994",
      "execution_count": 96,
      "outputs": [
        {
          "output_type": "display_data",
          "data": {
            "image/png": "[encoded data removed]",
            "text/plain": [
              "<Figure size 432x288 with 1 Axes>"
            ]
          },
          "metadata": {}
        }
      ]
    },
    {
      "cell_type": "code",
      "metadata": {
        "colab": {
          "base_uri": "https://localhost:8080/"
        },
        "id": "3ca90c0b",
        "outputId": "ca9a49e9-ffac-4370-ad31-18ea7d2bb011"
      },
      "source": [
        "# lg model PR AUC\n",
        "auc(prd_lg.recall, prd_lg.precision).round(3)"
      ],
      "id": "3ca90c0b",
      "execution_count": 97,
      "outputs": [
        {
          "output_type": "execute_result",
          "data": {
            "text/plain": [
              "0.927"
            ]
          },
          "metadata": {},
          "execution_count": 97
        }
      ]
    },
    {
      "cell_type": "code",
      "metadata": {
        "colab": {
          "base_uri": "https://localhost:8080/"
        },
        "id": "895a78ec",
        "outputId": "fc86b714-b4f1-4778-f5fd-082b8752f218"
      },
      "source": [
        "# lgb model PR AUC\n",
        "auc(prd_lgb.recall, prd_lgb.precision).round(3)"
      ],
      "id": "895a78ec",
      "execution_count": 98,
      "outputs": [
        {
          "output_type": "execute_result",
          "data": {
            "text/plain": [
              "0.923"
            ]
          },
          "metadata": {},
          "execution_count": 98
        }
      ]
    },
    {
      "cell_type": "code",
      "metadata": {
        "colab": {
          "base_uri": "https://localhost:8080/"
        },
        "id": "pHgaB3bVWJuh",
        "outputId": "7ff9bef2-a0d9-43d7-ea5b-5a88764c3f12"
      },
      "source": [
        "joblib_file = \"LGR.pkl\"\n",
        "joblib.dump(lgr, joblib_file)"
      ],
      "id": "pHgaB3bVWJuh",
      "execution_count": 99,
      "outputs": [
        {
          "output_type": "execute_result",
          "data": {
            "text/plain": [
              "['LGR.pkl']"
            ]
          },
          "metadata": {},
          "execution_count": 99
        }
      ]
    },
    {
      "cell_type": "code",
      "metadata": {
        "id": "Hk1Cpg11zYDp"
      },
      "source": [
        "# Load from file\n",
        "joblib_model = joblib.load(joblib_file)"
      ],
      "id": "Hk1Cpg11zYDp",
      "execution_count": 100,
      "outputs": []
    },
    {
      "cell_type": "code",
      "metadata": {
        "colab": {
          "base_uri": "https://localhost:8080/"
        },
        "id": "V2T5m0Avzbp9",
        "outputId": "5a0bd067-0c56-4036-a398-53f48ee4b194"
      },
      "source": [
        "score = joblib_model.score(X_test, y_test)\n",
        "print(\"Test score: {0:.2f} %\".format(100 * score))"
      ],
      "id": "V2T5m0Avzbp9",
      "execution_count": 101,
      "outputs": [
        {
          "output_type": "stream",
          "name": "stdout",
          "text": [
            "Test score: 94.04 %\n"
          ]
        }
      ]
    },
    {
      "cell_type": "code",
      "metadata": {
        "id": "PrUgV0MjzziK"
      },
      "source": [
        ""
      ],
      "id": "PrUgV0MjzziK",
      "execution_count": 101,
      "outputs": []
    }
  ]
}